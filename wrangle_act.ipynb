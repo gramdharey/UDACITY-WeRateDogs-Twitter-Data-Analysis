{
 "cells": [
  {
   "cell_type": "markdown",
   "metadata": {
    "extensions": {
     "jupyter_dashboards": {
      "version": 1,
      "views": {
       "grid_default": {
        "col": 0,
        "height": 4,
        "hidden": false,
        "row": 0,
        "width": 4
       },
       "report_default": {
        "hidden": false
       }
      }
     }
    }
   },
   "source": [
    "# Project: Wrangling and Analyzing Data\n",
    "BY : DAVID KAYODE OLUWADARE"
   ]
  },
  {
   "cell_type": "markdown",
   "metadata": {},
   "source": [
    "## Data Gathering\n",
    "In the cell below, gather **all** three pieces of data for this project and load them in the notebook. **Note:** the methods required to gather each data are different.\n",
    "1. Directly download the WeRateDogs Twitter archive data (twitter_archive_enhanced.csv)"
   ]
  },
  {
   "cell_type": "code",
   "execution_count": 1,
   "metadata": {},
   "outputs": [
    {
     "data": {
      "text/plain": [
       "'/home/workspace'"
      ]
     },
     "execution_count": 1,
     "metadata": {},
     "output_type": "execute_result"
    }
   ],
   "source": [
    "pwd"
   ]
  },
  {
   "cell_type": "code",
   "execution_count": 2,
   "metadata": {},
   "outputs": [
    {
     "name": "stdout",
     "output_type": "stream",
     "text": [
      "act_report.ipynb       \u001b[0m\u001b[01;34m__pycache__\u001b[0m/     twitter-archive-enhanced.csv\r\n",
      "image-predictions.tsv  tweet_json.txt   wrangle_act.ipynb\r\n",
      "mytest.py              twitter_api.csv  wrangle_report.ipynb\r\n"
     ]
    }
   ],
   "source": [
    "ls"
   ]
  },
  {
   "cell_type": "code",
   "execution_count": 3,
   "metadata": {},
   "outputs": [
    {
     "name": "stdout",
     "output_type": "stream",
     "text": [
      "Setup Complete\n"
     ]
    }
   ],
   "source": [
    "# Import libraries\n",
    "\n",
    "import requests\n",
    "import pandas as pd\n",
    "\n",
    "print(\"Setup Complete\")"
   ]
  },
  {
   "cell_type": "code",
   "execution_count": 4,
   "metadata": {},
   "outputs": [],
   "source": [
    "twitter_archive = pd.read_csv('twitter-archive-enhanced.csv')"
   ]
  },
  {
   "cell_type": "markdown",
   "metadata": {},
   "source": [
    "2. Use the Requests library to download the tweet image prediction (image_predictions.tsv)"
   ]
  },
  {
   "cell_type": "code",
   "execution_count": 5,
   "metadata": {},
   "outputs": [],
   "source": [
    "url = 'https://d17h27t6h515a5.cloudfront.net/topher/2017/August/599fd2ad_image-predictions/image-predictions.tsv'\n",
    "response = requests.get(url)\n",
    "with open ('image-predictions.tsv', mode='wb') as file:\n",
    "    file.write(response.content)"
   ]
  },
  {
   "cell_type": "markdown",
   "metadata": {},
   "source": [
    "3. Use the Tweepy library to query additional data via the Twitter API (tweet_json.txt)"
   ]
  },
  {
   "cell_type": "code",
   "execution_count": 6,
   "metadata": {},
   "outputs": [],
   "source": [
    "#importing where the Tokens gotten from twitter developer portal are saved\n",
    "import mytest"
   ]
  },
  {
   "cell_type": "code",
   "execution_count": 7,
   "metadata": {},
   "outputs": [],
   "source": [
    "#mytest.consumer_key"
   ]
  },
  {
   "cell_type": "code",
   "execution_count": 8,
   "metadata": {},
   "outputs": [
    {
     "name": "stdout",
     "output_type": "stream",
     "text": [
      "Requirement already satisfied: tweepy in /opt/conda/lib/python3.6/site-packages (3.5.0)\n",
      "Requirement already satisfied: requests>=2.4.3 in /opt/conda/lib/python3.6/site-packages (from tweepy) (2.18.4)\n",
      "Requirement already satisfied: requests_oauthlib>=0.4.1 in /opt/conda/lib/python3.6/site-packages (from tweepy) (0.8.0)\n",
      "Requirement already satisfied: six>=1.7.3 in /opt/conda/lib/python3.6/site-packages (from tweepy) (1.11.0)\n",
      "Requirement already satisfied: chardet<3.1.0,>=3.0.2 in /opt/conda/lib/python3.6/site-packages (from requests>=2.4.3->tweepy) (3.0.4)\n",
      "Requirement already satisfied: idna<2.7,>=2.5 in /opt/conda/lib/python3.6/site-packages (from requests>=2.4.3->tweepy) (2.6)\n",
      "Requirement already satisfied: urllib3<1.23,>=1.21.1 in /opt/conda/lib/python3.6/site-packages (from requests>=2.4.3->tweepy) (1.22)\n",
      "Requirement already satisfied: certifi>=2017.4.17 in /opt/conda/lib/python3.6/site-packages (from requests>=2.4.3->tweepy) (2019.11.28)\n",
      "Requirement already satisfied: oauthlib>=0.6.2 in /opt/conda/lib/python3.6/site-packages (from requests_oauthlib>=0.4.1->tweepy) (2.0.6)\n"
     ]
    }
   ],
   "source": [
    "!pip3 install tweepy"
   ]
  },
  {
   "cell_type": "code",
   "execution_count": 9,
   "metadata": {},
   "outputs": [
    {
     "name": "stdout",
     "output_type": "stream",
     "text": [
      "Setup Complete\n"
     ]
    }
   ],
   "source": [
    "#import libraries\n",
    "import tweepy\n",
    "from tweepy import OAuthHandler \n",
    "from timeit import default_timer as timer\n",
    "import json\n",
    "print(\"Setup Complete\")"
   ]
  },
  {
   "cell_type": "code",
   "execution_count": 13,
   "metadata": {},
   "outputs": [],
   "source": [
    "#Twitter Tokens, secret and key generated from the developer portal\n",
    "\n",
    "consumer_key = mytest.consumer_key\n",
    "consumer_secret = mytest.consumer_secret\n",
    "access_token = mytest.access_token\n",
    "access_secret = mytest.access_secret\n",
    "\n",
    "auth = OAuthHandler(consumer_key, consumer_secret)\n",
    "auth.set_access_token(access_token, access_secret)\n",
    "\n",
    "api = tweepy.API(auth, wait_on_rate_limit = True, wait_on_rate_limit_notify = True)"
   ]
  },
  {
   "cell_type": "code",
   "execution_count": 10,
   "metadata": {},
   "outputs": [
    {
     "data": {
      "text/plain": [
       "2356"
      ]
     },
     "execution_count": 10,
     "metadata": {},
     "output_type": "execute_result"
    }
   ],
   "source": [
    "# convert the tweet_id in the twitter-archive-enhanced.csv file to a list\n",
    "# and also count it\n",
    "\n",
    "tweet_ids = twitter_archive.tweet_id.values\n",
    "len(tweet_ids)"
   ]
  },
  {
   "cell_type": "code",
   "execution_count": null,
   "metadata": {},
   "outputs": [],
   "source": []
  },
  {
   "cell_type": "code",
   "execution_count": 14,
   "metadata": {},
   "outputs": [
    {
     "name": "stdout",
     "output_type": "stream",
     "text": [
      "888202515573088257 : [{'code': 144, 'message': 'No status found with that ID.'}]\n",
      "873697596434513921 : [{'code': 144, 'message': 'No status found with that ID.'}]\n",
      "872668790621863937 : [{'code': 144, 'message': 'No status found with that ID.'}]\n",
      "872261713294495745 : [{'code': 144, 'message': 'No status found with that ID.'}]\n",
      "869988702071779329 : [{'code': 144, 'message': 'No status found with that ID.'}]\n",
      "866816280283807744 : [{'code': 144, 'message': 'No status found with that ID.'}]\n",
      "861769973181624320 : [{'code': 144, 'message': 'No status found with that ID.'}]\n",
      "856602993587888130 : [{'code': 144, 'message': 'No status found with that ID.'}]\n",
      "856330835276025856 : [{'code': 34, 'message': 'Sorry, that page does not exist.'}]\n",
      "851953902622658560 : [{'code': 144, 'message': 'No status found with that ID.'}]\n",
      "851861385021730816 : [{'code': 144, 'message': 'No status found with that ID.'}]\n",
      "845459076796616705 : [{'code': 144, 'message': 'No status found with that ID.'}]\n",
      "844704788403113984 : [{'code': 144, 'message': 'No status found with that ID.'}]\n",
      "842892208864923648 : [{'code': 144, 'message': 'No status found with that ID.'}]\n",
      "837366284874571778 : [{'code': 144, 'message': 'No status found with that ID.'}]\n",
      "837012587749474308 : [{'code': 144, 'message': 'No status found with that ID.'}]\n",
      "829374341691346946 : [{'code': 144, 'message': 'No status found with that ID.'}]\n",
      "827228250799742977 : [{'code': 144, 'message': 'No status found with that ID.'}]\n",
      "812747805718642688 : [{'code': 144, 'message': 'No status found with that ID.'}]\n",
      "802247111496568832 : [{'code': 144, 'message': 'No status found with that ID.'}]\n",
      "779123168116150273 : [{'code': 144, 'message': 'No status found with that ID.'}]\n",
      "775096608509886464 : [{'code': 144, 'message': 'No status found with that ID.'}]\n",
      "771004394259247104 : [{'code': 179, 'message': 'Sorry, you are not authorized to see this status.'}]\n",
      "770743923962707968 : [{'code': 144, 'message': 'No status found with that ID.'}]\n",
      "766864461642756096 : [{'code': 144, 'message': 'No status found with that ID.'}]\n",
      "759923798737051648 : [{'code': 144, 'message': 'No status found with that ID.'}]\n",
      "759566828574212096 : [{'code': 144, 'message': 'No status found with that ID.'}]\n",
      "Rate limit reached. Sleeping for: 733\n",
      "754011816964026368 : [{'code': 144, 'message': 'No status found with that ID.'}]\n",
      "680055455951884288 : [{'code': 144, 'message': 'No status found with that ID.'}]\n",
      "Rate limit reached. Sleeping for: 720\n",
      "1924.7891859430001\n",
      "{888202515573088257: TweepError([{'code': 144, 'message': 'No status found with that ID.'}],), 873697596434513921: TweepError([{'code': 144, 'message': 'No status found with that ID.'}],), 872668790621863937: TweepError([{'code': 144, 'message': 'No status found with that ID.'}],), 872261713294495745: TweepError([{'code': 144, 'message': 'No status found with that ID.'}],), 869988702071779329: TweepError([{'code': 144, 'message': 'No status found with that ID.'}],), 866816280283807744: TweepError([{'code': 144, 'message': 'No status found with that ID.'}],), 861769973181624320: TweepError([{'code': 144, 'message': 'No status found with that ID.'}],), 856602993587888130: TweepError([{'code': 144, 'message': 'No status found with that ID.'}],), 856330835276025856: TweepError([{'code': 34, 'message': 'Sorry, that page does not exist.'}],), 851953902622658560: TweepError([{'code': 144, 'message': 'No status found with that ID.'}],), 851861385021730816: TweepError([{'code': 144, 'message': 'No status found with that ID.'}],), 845459076796616705: TweepError([{'code': 144, 'message': 'No status found with that ID.'}],), 844704788403113984: TweepError([{'code': 144, 'message': 'No status found with that ID.'}],), 842892208864923648: TweepError([{'code': 144, 'message': 'No status found with that ID.'}],), 837366284874571778: TweepError([{'code': 144, 'message': 'No status found with that ID.'}],), 837012587749474308: TweepError([{'code': 144, 'message': 'No status found with that ID.'}],), 829374341691346946: TweepError([{'code': 144, 'message': 'No status found with that ID.'}],), 827228250799742977: TweepError([{'code': 144, 'message': 'No status found with that ID.'}],), 812747805718642688: TweepError([{'code': 144, 'message': 'No status found with that ID.'}],), 802247111496568832: TweepError([{'code': 144, 'message': 'No status found with that ID.'}],), 779123168116150273: TweepError([{'code': 144, 'message': 'No status found with that ID.'}],), 775096608509886464: TweepError([{'code': 144, 'message': 'No status found with that ID.'}],), 771004394259247104: TweepError([{'code': 179, 'message': 'Sorry, you are not authorized to see this status.'}],), 770743923962707968: TweepError([{'code': 144, 'message': 'No status found with that ID.'}],), 766864461642756096: TweepError([{'code': 144, 'message': 'No status found with that ID.'}],), 759923798737051648: TweepError([{'code': 144, 'message': 'No status found with that ID.'}],), 759566828574212096: TweepError([{'code': 144, 'message': 'No status found with that ID.'}],), 754011816964026368: TweepError([{'code': 144, 'message': 'No status found with that ID.'}],), 680055455951884288: TweepError([{'code': 144, 'message': 'No status found with that ID.'}],)}\n"
     ]
    }
   ],
   "source": [
    "# Query Twitter's API for JSON data for each tweet ID in the Twitter archive\n",
    "count = 0\n",
    "fails_dict = {}\n",
    "start = timer()\n",
    "# Save each tweet's returned JSON as a new line in a .txt file\n",
    "with open('tweet_json.txt', 'w') as outfile:\n",
    "    # This loop will likely take 20-30 minutes to run because of Twitter's rate limit\n",
    "    for tweet_id in tweet_ids:\n",
    "        count += 1\n",
    "        try:\n",
    "            tweet = api.get_status(tweet_id, tweet_mode='extended')\n",
    "            json.dump(tweet._json, outfile)\n",
    "            outfile.write('\\n')\n",
    "        except tweepy.TweepError as e:\n",
    "            print(tweet_id,\":\", str(e))\n",
    "            fails_dict[tweet_id] = e\n",
    "            pass\n",
    "end = timer()\n",
    "print(end - start)\n",
    "print(fails_dict)"
   ]
  },
  {
   "cell_type": "code",
   "execution_count": 18,
   "metadata": {},
   "outputs": [],
   "source": [
    "#Extracting the file by creating an empty list to store them\n",
    "datafromAPI = []\n",
    "#Read the created 'tweet_json.txt' line by line and extract needed data \n",
    "with open('tweet_json.txt', 'r') as file:\n",
    "    lines = file.readlines()\n",
    "    \n",
    "#looping through the reading text file\n",
    "    for everyline in lines:\n",
    "        everyline_json = json.loads(everyline)\n",
    "        id = everyline_json['id']\n",
    "        favorite_count = everyline_json['favorite_count']\n",
    "        retweet = everyline_json['retweet_count']\n",
    "        datafromAPI.append({'tweet_id':id,\n",
    "                            'favorite_count':favorite_count,\n",
    "                            'retweet_count':retweet})"
   ]
  },
  {
   "cell_type": "code",
   "execution_count": 20,
   "metadata": {},
   "outputs": [
    {
     "name": "stdout",
     "output_type": "stream",
     "text": [
      "act_report.ipynb       \u001b[0m\u001b[01;34m__pycache__\u001b[0m/     twitter-archive-enhanced.csv\r\n",
      "image-predictions.tsv  tweet_json.txt   wrangle_act.ipynb\r\n",
      "mytest.py              twitter_api.csv  wrangle_report.ipynb\r\n"
     ]
    }
   ],
   "source": [
    "ls"
   ]
  },
  {
   "cell_type": "code",
   "execution_count": 21,
   "metadata": {
    "scrolled": false
   },
   "outputs": [
    {
     "data": {
      "text/html": [
       "<div>\n",
       "<style scoped>\n",
       "    .dataframe tbody tr th:only-of-type {\n",
       "        vertical-align: middle;\n",
       "    }\n",
       "\n",
       "    .dataframe tbody tr th {\n",
       "        vertical-align: top;\n",
       "    }\n",
       "\n",
       "    .dataframe thead th {\n",
       "        text-align: right;\n",
       "    }\n",
       "</style>\n",
       "<table border=\"1\" class=\"dataframe\">\n",
       "  <thead>\n",
       "    <tr style=\"text-align: right;\">\n",
       "      <th></th>\n",
       "      <th>tweet_id</th>\n",
       "      <th>favorite_count</th>\n",
       "      <th>retweet_count</th>\n",
       "    </tr>\n",
       "  </thead>\n",
       "  <tbody>\n",
       "    <tr>\n",
       "      <th>0</th>\n",
       "      <td>892420643555336193</td>\n",
       "      <td>33819</td>\n",
       "      <td>7009</td>\n",
       "    </tr>\n",
       "    <tr>\n",
       "      <th>1</th>\n",
       "      <td>892177421306343426</td>\n",
       "      <td>29322</td>\n",
       "      <td>5302</td>\n",
       "    </tr>\n",
       "    <tr>\n",
       "      <th>2</th>\n",
       "      <td>891815181378084864</td>\n",
       "      <td>22060</td>\n",
       "      <td>3481</td>\n",
       "    </tr>\n",
       "    <tr>\n",
       "      <th>3</th>\n",
       "      <td>891689557279858688</td>\n",
       "      <td>36946</td>\n",
       "      <td>7227</td>\n",
       "    </tr>\n",
       "    <tr>\n",
       "      <th>4</th>\n",
       "      <td>891327558926688256</td>\n",
       "      <td>35314</td>\n",
       "      <td>7763</td>\n",
       "    </tr>\n",
       "  </tbody>\n",
       "</table>\n",
       "</div>"
      ],
      "text/plain": [
       "             tweet_id  favorite_count  retweet_count\n",
       "0  892420643555336193           33819           7009\n",
       "1  892177421306343426           29322           5302\n",
       "2  891815181378084864           22060           3481\n",
       "3  891689557279858688           36946           7227\n",
       "4  891327558926688256           35314           7763"
      ]
     },
     "execution_count": 21,
     "metadata": {},
     "output_type": "execute_result"
    }
   ],
   "source": [
    "#converting the above read text file as a dictonary to dataframe as instructed\n",
    "df = pd.DataFrame(datafromAPI, columns = ['tweet_id','favorite_count','retweet_count'])\n",
    "df.head()"
   ]
  },
  {
   "cell_type": "code",
   "execution_count": 22,
   "metadata": {},
   "outputs": [
    {
     "data": {
      "text/plain": [
       "(2327, 3)"
      ]
     },
     "execution_count": 22,
     "metadata": {},
     "output_type": "execute_result"
    }
   ],
   "source": [
    "df.shape"
   ]
  },
  {
   "cell_type": "code",
   "execution_count": 23,
   "metadata": {},
   "outputs": [],
   "source": [
    "#save and read datafromAPI CSV\n",
    "\n",
    "df.to_csv('twitter_api.csv', index =False)\n",
    "apiData = pd.read_csv('twitter_api.csv')"
   ]
  },
  {
   "cell_type": "markdown",
   "metadata": {
    "extensions": {
     "jupyter_dashboards": {
      "version": 1,
      "views": {
       "grid_default": {
        "col": 4,
        "height": 4,
        "hidden": false,
        "row": 28,
        "width": 4
       },
       "report_default": {
        "hidden": false
       }
      }
     }
    }
   },
   "source": [
    "## Assessing Data\n",
    "\n",
    "### Visual assessment\n"
   ]
  },
  {
   "cell_type": "code",
   "execution_count": 24,
   "metadata": {},
   "outputs": [
    {
     "data": {
      "text/html": [
       "<div>\n",
       "<style scoped>\n",
       "    .dataframe tbody tr th:only-of-type {\n",
       "        vertical-align: middle;\n",
       "    }\n",
       "\n",
       "    .dataframe tbody tr th {\n",
       "        vertical-align: top;\n",
       "    }\n",
       "\n",
       "    .dataframe thead th {\n",
       "        text-align: right;\n",
       "    }\n",
       "</style>\n",
       "<table border=\"1\" class=\"dataframe\">\n",
       "  <thead>\n",
       "    <tr style=\"text-align: right;\">\n",
       "      <th></th>\n",
       "      <th>tweet_id</th>\n",
       "      <th>in_reply_to_status_id</th>\n",
       "      <th>in_reply_to_user_id</th>\n",
       "      <th>timestamp</th>\n",
       "      <th>source</th>\n",
       "      <th>text</th>\n",
       "      <th>retweeted_status_id</th>\n",
       "      <th>retweeted_status_user_id</th>\n",
       "      <th>retweeted_status_timestamp</th>\n",
       "      <th>expanded_urls</th>\n",
       "      <th>rating_numerator</th>\n",
       "      <th>rating_denominator</th>\n",
       "      <th>name</th>\n",
       "      <th>doggo</th>\n",
       "      <th>floofer</th>\n",
       "      <th>pupper</th>\n",
       "      <th>puppo</th>\n",
       "    </tr>\n",
       "  </thead>\n",
       "  <tbody>\n",
       "    <tr>\n",
       "      <th>1987</th>\n",
       "      <td>672877615439593473</td>\n",
       "      <td>NaN</td>\n",
       "      <td>NaN</td>\n",
       "      <td>2015-12-04 20:38:19 +0000</td>\n",
       "      <td>&lt;a href=\"http://twitter.com/download/iphone\" r...</td>\n",
       "      <td>This is Oscar. He's getting bombarded with the...</td>\n",
       "      <td>NaN</td>\n",
       "      <td>NaN</td>\n",
       "      <td>NaN</td>\n",
       "      <td>https://twitter.com/dog_rates/status/672877615...</td>\n",
       "      <td>8</td>\n",
       "      <td>10</td>\n",
       "      <td>Oscar</td>\n",
       "      <td>None</td>\n",
       "      <td>None</td>\n",
       "      <td>None</td>\n",
       "      <td>None</td>\n",
       "    </tr>\n",
       "    <tr>\n",
       "      <th>2149</th>\n",
       "      <td>669684865554620416</td>\n",
       "      <td>6.693544e+17</td>\n",
       "      <td>4.196984e+09</td>\n",
       "      <td>2015-11-26 01:11:28 +0000</td>\n",
       "      <td>&lt;a href=\"http://twitter.com/download/iphone\" r...</td>\n",
       "      <td>After countless hours of research and hundreds...</td>\n",
       "      <td>NaN</td>\n",
       "      <td>NaN</td>\n",
       "      <td>NaN</td>\n",
       "      <td>NaN</td>\n",
       "      <td>11</td>\n",
       "      <td>10</td>\n",
       "      <td>None</td>\n",
       "      <td>None</td>\n",
       "      <td>None</td>\n",
       "      <td>None</td>\n",
       "      <td>None</td>\n",
       "    </tr>\n",
       "    <tr>\n",
       "      <th>2186</th>\n",
       "      <td>668981893510119424</td>\n",
       "      <td>NaN</td>\n",
       "      <td>NaN</td>\n",
       "      <td>2015-11-24 02:38:07 +0000</td>\n",
       "      <td>&lt;a href=\"http://twitter.com/download/iphone\" r...</td>\n",
       "      <td>Unique dog here. Oddly shaped tail. Long pink ...</td>\n",
       "      <td>NaN</td>\n",
       "      <td>NaN</td>\n",
       "      <td>NaN</td>\n",
       "      <td>https://twitter.com/dog_rates/status/668981893...</td>\n",
       "      <td>4</td>\n",
       "      <td>10</td>\n",
       "      <td>None</td>\n",
       "      <td>None</td>\n",
       "      <td>None</td>\n",
       "      <td>None</td>\n",
       "      <td>None</td>\n",
       "    </tr>\n",
       "  </tbody>\n",
       "</table>\n",
       "</div>"
      ],
      "text/plain": [
       "                tweet_id  in_reply_to_status_id  in_reply_to_user_id  \\\n",
       "1987  672877615439593473                    NaN                  NaN   \n",
       "2149  669684865554620416           6.693544e+17         4.196984e+09   \n",
       "2186  668981893510119424                    NaN                  NaN   \n",
       "\n",
       "                      timestamp  \\\n",
       "1987  2015-12-04 20:38:19 +0000   \n",
       "2149  2015-11-26 01:11:28 +0000   \n",
       "2186  2015-11-24 02:38:07 +0000   \n",
       "\n",
       "                                                 source  \\\n",
       "1987  <a href=\"http://twitter.com/download/iphone\" r...   \n",
       "2149  <a href=\"http://twitter.com/download/iphone\" r...   \n",
       "2186  <a href=\"http://twitter.com/download/iphone\" r...   \n",
       "\n",
       "                                                   text  retweeted_status_id  \\\n",
       "1987  This is Oscar. He's getting bombarded with the...                  NaN   \n",
       "2149  After countless hours of research and hundreds...                  NaN   \n",
       "2186  Unique dog here. Oddly shaped tail. Long pink ...                  NaN   \n",
       "\n",
       "      retweeted_status_user_id retweeted_status_timestamp  \\\n",
       "1987                       NaN                        NaN   \n",
       "2149                       NaN                        NaN   \n",
       "2186                       NaN                        NaN   \n",
       "\n",
       "                                          expanded_urls  rating_numerator  \\\n",
       "1987  https://twitter.com/dog_rates/status/672877615...                 8   \n",
       "2149                                                NaN                11   \n",
       "2186  https://twitter.com/dog_rates/status/668981893...                 4   \n",
       "\n",
       "      rating_denominator   name doggo floofer pupper puppo  \n",
       "1987                  10  Oscar  None    None   None  None  \n",
       "2149                  10   None  None    None   None  None  \n",
       "2186                  10   None  None    None   None  None  "
      ]
     },
     "execution_count": 24,
     "metadata": {},
     "output_type": "execute_result"
    }
   ],
   "source": [
    "twitter_archive.sample(3)"
   ]
  },
  {
   "cell_type": "code",
   "execution_count": 25,
   "metadata": {},
   "outputs": [
    {
     "data": {
      "text/html": [
       "<div>\n",
       "<style scoped>\n",
       "    .dataframe tbody tr th:only-of-type {\n",
       "        vertical-align: middle;\n",
       "    }\n",
       "\n",
       "    .dataframe tbody tr th {\n",
       "        vertical-align: top;\n",
       "    }\n",
       "\n",
       "    .dataframe thead th {\n",
       "        text-align: right;\n",
       "    }\n",
       "</style>\n",
       "<table border=\"1\" class=\"dataframe\">\n",
       "  <thead>\n",
       "    <tr style=\"text-align: right;\">\n",
       "      <th></th>\n",
       "      <th>tweet_id</th>\n",
       "      <th>jpg_url</th>\n",
       "      <th>img_num</th>\n",
       "      <th>p1</th>\n",
       "      <th>p1_conf</th>\n",
       "      <th>p1_dog</th>\n",
       "      <th>p2</th>\n",
       "      <th>p2_conf</th>\n",
       "      <th>p2_dog</th>\n",
       "      <th>p3</th>\n",
       "      <th>p3_conf</th>\n",
       "      <th>p3_dog</th>\n",
       "    </tr>\n",
       "  </thead>\n",
       "  <tbody>\n",
       "    <tr>\n",
       "      <th>829</th>\n",
       "      <td>693622659251335168</td>\n",
       "      <td>https://pbs.twimg.com/media/CaA-IR9VIAAqg5l.jpg</td>\n",
       "      <td>1</td>\n",
       "      <td>malamute</td>\n",
       "      <td>0.449298</td>\n",
       "      <td>True</td>\n",
       "      <td>Siberian_husky</td>\n",
       "      <td>0.385075</td>\n",
       "      <td>True</td>\n",
       "      <td>Eskimo_dog</td>\n",
       "      <td>0.163485</td>\n",
       "      <td>True</td>\n",
       "    </tr>\n",
       "    <tr>\n",
       "      <th>1881</th>\n",
       "      <td>847116187444137987</td>\n",
       "      <td>https://pbs.twimg.com/media/C8GPrNDW4AAkLde.jpg</td>\n",
       "      <td>1</td>\n",
       "      <td>white_wolf</td>\n",
       "      <td>0.128935</td>\n",
       "      <td>False</td>\n",
       "      <td>American_Staffordshire_terrier</td>\n",
       "      <td>0.113434</td>\n",
       "      <td>True</td>\n",
       "      <td>dingo</td>\n",
       "      <td>0.081231</td>\n",
       "      <td>False</td>\n",
       "    </tr>\n",
       "    <tr>\n",
       "      <th>1458</th>\n",
       "      <td>777885040357281792</td>\n",
       "      <td>https://pbs.twimg.com/media/CsuaUH2WAAAWJh1.jpg</td>\n",
       "      <td>1</td>\n",
       "      <td>Afghan_hound</td>\n",
       "      <td>0.123529</td>\n",
       "      <td>True</td>\n",
       "      <td>basset</td>\n",
       "      <td>0.119682</td>\n",
       "      <td>True</td>\n",
       "      <td>Siberian_husky</td>\n",
       "      <td>0.108709</td>\n",
       "      <td>True</td>\n",
       "    </tr>\n",
       "  </tbody>\n",
       "</table>\n",
       "</div>"
      ],
      "text/plain": [
       "                tweet_id                                          jpg_url  \\\n",
       "829   693622659251335168  https://pbs.twimg.com/media/CaA-IR9VIAAqg5l.jpg   \n",
       "1881  847116187444137987  https://pbs.twimg.com/media/C8GPrNDW4AAkLde.jpg   \n",
       "1458  777885040357281792  https://pbs.twimg.com/media/CsuaUH2WAAAWJh1.jpg   \n",
       "\n",
       "      img_num            p1   p1_conf  p1_dog                              p2  \\\n",
       "829         1      malamute  0.449298    True                  Siberian_husky   \n",
       "1881        1    white_wolf  0.128935   False  American_Staffordshire_terrier   \n",
       "1458        1  Afghan_hound  0.123529    True                          basset   \n",
       "\n",
       "       p2_conf  p2_dog              p3   p3_conf  p3_dog  \n",
       "829   0.385075    True      Eskimo_dog  0.163485    True  \n",
       "1881  0.113434    True           dingo  0.081231   False  \n",
       "1458  0.119682    True  Siberian_husky  0.108709    True  "
      ]
     },
     "execution_count": 25,
     "metadata": {},
     "output_type": "execute_result"
    }
   ],
   "source": [
    "image_prediction = pd.read_csv('image-predictions.tsv', sep ='\\t')\n",
    "image_prediction.sample(3)"
   ]
  },
  {
   "cell_type": "code",
   "execution_count": 26,
   "metadata": {},
   "outputs": [
    {
     "data": {
      "text/html": [
       "<div>\n",
       "<style scoped>\n",
       "    .dataframe tbody tr th:only-of-type {\n",
       "        vertical-align: middle;\n",
       "    }\n",
       "\n",
       "    .dataframe tbody tr th {\n",
       "        vertical-align: top;\n",
       "    }\n",
       "\n",
       "    .dataframe thead th {\n",
       "        text-align: right;\n",
       "    }\n",
       "</style>\n",
       "<table border=\"1\" class=\"dataframe\">\n",
       "  <thead>\n",
       "    <tr style=\"text-align: right;\">\n",
       "      <th></th>\n",
       "      <th>tweet_id</th>\n",
       "      <th>favorite_count</th>\n",
       "      <th>retweet_count</th>\n",
       "    </tr>\n",
       "  </thead>\n",
       "  <tbody>\n",
       "    <tr>\n",
       "      <th>0</th>\n",
       "      <td>892420643555336193</td>\n",
       "      <td>33819</td>\n",
       "      <td>7009</td>\n",
       "    </tr>\n",
       "    <tr>\n",
       "      <th>1</th>\n",
       "      <td>892177421306343426</td>\n",
       "      <td>29322</td>\n",
       "      <td>5302</td>\n",
       "    </tr>\n",
       "    <tr>\n",
       "      <th>2</th>\n",
       "      <td>891815181378084864</td>\n",
       "      <td>22060</td>\n",
       "      <td>3481</td>\n",
       "    </tr>\n",
       "    <tr>\n",
       "      <th>3</th>\n",
       "      <td>891689557279858688</td>\n",
       "      <td>36946</td>\n",
       "      <td>7227</td>\n",
       "    </tr>\n",
       "    <tr>\n",
       "      <th>4</th>\n",
       "      <td>891327558926688256</td>\n",
       "      <td>35314</td>\n",
       "      <td>7763</td>\n",
       "    </tr>\n",
       "    <tr>\n",
       "      <th>5</th>\n",
       "      <td>891087950875897856</td>\n",
       "      <td>17796</td>\n",
       "      <td>2599</td>\n",
       "    </tr>\n",
       "    <tr>\n",
       "      <th>6</th>\n",
       "      <td>890971913173991426</td>\n",
       "      <td>10369</td>\n",
       "      <td>1664</td>\n",
       "    </tr>\n",
       "    <tr>\n",
       "      <th>7</th>\n",
       "      <td>890729181411237888</td>\n",
       "      <td>56880</td>\n",
       "      <td>15757</td>\n",
       "    </tr>\n",
       "    <tr>\n",
       "      <th>8</th>\n",
       "      <td>890609185150312448</td>\n",
       "      <td>24529</td>\n",
       "      <td>3622</td>\n",
       "    </tr>\n",
       "    <tr>\n",
       "      <th>9</th>\n",
       "      <td>890240255349198849</td>\n",
       "      <td>27965</td>\n",
       "      <td>6101</td>\n",
       "    </tr>\n",
       "  </tbody>\n",
       "</table>\n",
       "</div>"
      ],
      "text/plain": [
       "             tweet_id  favorite_count  retweet_count\n",
       "0  892420643555336193           33819           7009\n",
       "1  892177421306343426           29322           5302\n",
       "2  891815181378084864           22060           3481\n",
       "3  891689557279858688           36946           7227\n",
       "4  891327558926688256           35314           7763\n",
       "5  891087950875897856           17796           2599\n",
       "6  890971913173991426           10369           1664\n",
       "7  890729181411237888           56880          15757\n",
       "8  890609185150312448           24529           3622\n",
       "9  890240255349198849           27965           6101"
      ]
     },
     "execution_count": 26,
     "metadata": {},
     "output_type": "execute_result"
    }
   ],
   "source": [
    "apiData.head(10)"
   ]
  },
  {
   "cell_type": "code",
   "execution_count": 27,
   "metadata": {},
   "outputs": [
    {
     "data": {
      "text/plain": [
       "(2327, 3)"
      ]
     },
     "execution_count": 27,
     "metadata": {},
     "output_type": "execute_result"
    }
   ],
   "source": [
    "apiData.shape"
   ]
  },
  {
   "cell_type": "markdown",
   "metadata": {},
   "source": [
    "### Programatical Assessment\n",
    "After assessing visually the three datasets and identifying several tidiness issues, we now go deeper using Programatic Assessment:"
   ]
  },
  {
   "cell_type": "code",
   "execution_count": 37,
   "metadata": {},
   "outputs": [
    {
     "name": "stdout",
     "output_type": "stream",
     "text": [
      "<class 'pandas.core.frame.DataFrame'>\n",
      "RangeIndex: 2327 entries, 0 to 2326\n",
      "Data columns (total 3 columns):\n",
      "tweet_id          2327 non-null int64\n",
      "favorite_count    2327 non-null int64\n",
      "retweet_count     2327 non-null int64\n",
      "dtypes: int64(3)\n",
      "memory usage: 54.6 KB\n"
     ]
    }
   ],
   "source": [
    "apiData.info()"
   ]
  },
  {
   "cell_type": "code",
   "execution_count": 38,
   "metadata": {},
   "outputs": [
    {
     "name": "stdout",
     "output_type": "stream",
     "text": [
      "<class 'pandas.core.frame.DataFrame'>\n",
      "RangeIndex: 2075 entries, 0 to 2074\n",
      "Data columns (total 12 columns):\n",
      "tweet_id    2075 non-null int64\n",
      "jpg_url     2075 non-null object\n",
      "img_num     2075 non-null int64\n",
      "p1          2075 non-null object\n",
      "p1_conf     2075 non-null float64\n",
      "p1_dog      2075 non-null bool\n",
      "p2          2075 non-null object\n",
      "p2_conf     2075 non-null float64\n",
      "p2_dog      2075 non-null bool\n",
      "p3          2075 non-null object\n",
      "p3_conf     2075 non-null float64\n",
      "p3_dog      2075 non-null bool\n",
      "dtypes: bool(3), float64(3), int64(2), object(4)\n",
      "memory usage: 152.1+ KB\n"
     ]
    }
   ],
   "source": [
    "image_prediction.info()"
   ]
  },
  {
   "cell_type": "code",
   "execution_count": 39,
   "metadata": {},
   "outputs": [
    {
     "name": "stdout",
     "output_type": "stream",
     "text": [
      "<class 'pandas.core.frame.DataFrame'>\n",
      "RangeIndex: 2356 entries, 0 to 2355\n",
      "Data columns (total 17 columns):\n",
      "tweet_id                      2356 non-null int64\n",
      "in_reply_to_status_id         78 non-null float64\n",
      "in_reply_to_user_id           78 non-null float64\n",
      "timestamp                     2356 non-null object\n",
      "source                        2356 non-null object\n",
      "text                          2356 non-null object\n",
      "retweeted_status_id           181 non-null float64\n",
      "retweeted_status_user_id      181 non-null float64\n",
      "retweeted_status_timestamp    181 non-null object\n",
      "expanded_urls                 2297 non-null object\n",
      "rating_numerator              2356 non-null int64\n",
      "rating_denominator            2356 non-null int64\n",
      "name                          2356 non-null object\n",
      "doggo                         2356 non-null object\n",
      "floofer                       2356 non-null object\n",
      "pupper                        2356 non-null object\n",
      "puppo                         2356 non-null object\n",
      "dtypes: float64(4), int64(3), object(10)\n",
      "memory usage: 313.0+ KB\n"
     ]
    }
   ],
   "source": [
    "twitter_archive.info()"
   ]
  },
  {
   "cell_type": "code",
   "execution_count": 40,
   "metadata": {},
   "outputs": [
    {
     "data": {
      "text/plain": [
       "0"
      ]
     },
     "execution_count": 40,
     "metadata": {},
     "output_type": "execute_result"
    }
   ],
   "source": [
    "# Test if the missing expanded URLs are a problem.\n",
    "# If there is a link in the tweet's text and no expanded URL then there is an issue\n",
    "\n",
    "nullvalues = twitter_archive[twitter_archive['expanded_urls'].isnull()]\n",
    "nullvalues['text'].str.contains('http').sum()"
   ]
  },
  {
   "cell_type": "code",
   "execution_count": 41,
   "metadata": {},
   "outputs": [
    {
     "data": {
      "text/html": [
       "<div>\n",
       "<style scoped>\n",
       "    .dataframe tbody tr th:only-of-type {\n",
       "        vertical-align: middle;\n",
       "    }\n",
       "\n",
       "    .dataframe tbody tr th {\n",
       "        vertical-align: top;\n",
       "    }\n",
       "\n",
       "    .dataframe thead th {\n",
       "        text-align: right;\n",
       "    }\n",
       "</style>\n",
       "<table border=\"1\" class=\"dataframe\">\n",
       "  <thead>\n",
       "    <tr style=\"text-align: right;\">\n",
       "      <th></th>\n",
       "      <th>tweet_id</th>\n",
       "      <th>in_reply_to_status_id</th>\n",
       "      <th>in_reply_to_user_id</th>\n",
       "      <th>timestamp</th>\n",
       "      <th>source</th>\n",
       "      <th>text</th>\n",
       "      <th>retweeted_status_id</th>\n",
       "      <th>retweeted_status_user_id</th>\n",
       "      <th>retweeted_status_timestamp</th>\n",
       "      <th>expanded_urls</th>\n",
       "      <th>rating_numerator</th>\n",
       "      <th>rating_denominator</th>\n",
       "      <th>name</th>\n",
       "      <th>doggo</th>\n",
       "      <th>floofer</th>\n",
       "      <th>pupper</th>\n",
       "      <th>puppo</th>\n",
       "    </tr>\n",
       "  </thead>\n",
       "  <tbody>\n",
       "  </tbody>\n",
       "</table>\n",
       "</div>"
      ],
      "text/plain": [
       "Empty DataFrame\n",
       "Columns: [tweet_id, in_reply_to_status_id, in_reply_to_user_id, timestamp, source, text, retweeted_status_id, retweeted_status_user_id, retweeted_status_timestamp, expanded_urls, rating_numerator, rating_denominator, name, doggo, floofer, pupper, puppo]\n",
       "Index: []"
      ]
     },
     "execution_count": 41,
     "metadata": {},
     "output_type": "execute_result"
    }
   ],
   "source": [
    "# check for duplicated IDs in the feeds dataframe\n",
    "\n",
    "twitter_archive[twitter_archive.tweet_id.duplicated()]"
   ]
  },
  {
   "cell_type": "markdown",
   "metadata": {},
   "source": [
    "### Quality issues\n",
    "1. The column 'id' should be changed to tweet_id in the *newapi* Table \n",
    "\n",
    "2. Some uppercase and lowercase letters identified in columns 'p1', 'p2', and 'p3' in the *image_prediction* Table\n",
    "\n",
    "3. 'text' column has unnecesary HTML code in the *twitter_archive* Table\n",
    "\n",
    "4. Missing values in columns: in_reply_to_status_id, in_reply_to_user_id, retweeted_status_id, retweeted_status_user_id,      retweeted_status_timestamp, and expanded_urls in the *twitter_archive* Table\n",
    "\n",
    "5. 'timestamp' should be a datetime64 dtype as well in the *Twitter_archive* Table \n",
    "\n",
    "6. Remove the 'source' column in the *twitter_archive* Table\n",
    "\n",
    "7. Drops rows with duplicates in the jpg_url column\n",
    "\n",
    "8. Change timestamp format from \"2017-07-26 15:59:51+00:00\" to \"2017, 2016, 2015....\""
   ]
  },
  {
   "cell_type": "markdown",
   "metadata": {
    "extensions": {
     "jupyter_dashboards": {
      "version": 1,
      "views": {
       "grid_default": {
        "col": 0,
        "height": 7,
        "hidden": false,
        "row": 40,
        "width": 12
       },
       "report_default": {
        "hidden": false
       }
      }
     }
    }
   },
   "source": [
    "### Tidiness issues\n",
    "1. Merged all three tables into one.\n",
    "\n",
    "2. Dog tests are spread in three columns."
   ]
  },
  {
   "cell_type": "markdown",
   "metadata": {
    "extensions": {
     "jupyter_dashboards": {
      "version": 1,
      "views": {
       "grid_default": {
        "col": 4,
        "height": 4,
        "hidden": false,
        "row": 32,
        "width": 4
       },
       "report_default": {
        "hidden": false
       }
      }
     }
    }
   },
   "source": [
    "## Cleaning Data\n",
    "\n",
    "Before we go any further, we need to make copies of the data. Here the data frame is still the same but from the #QUALITY ISSUE : clean_newapi is the same as newapi, clean_image is the same as image_prediction, clean_tweet is the same as twitter_archive respectively below"
   ]
  },
  {
   "cell_type": "code",
   "execution_count": 79,
   "metadata": {},
   "outputs": [],
   "source": [
    "# Make copies of original pieces of data\n",
    "\n",
    "clean_newapi = apiData.copy()\n",
    "clean_image = image_prediction.copy()\n",
    "clean_tweet = twitter_archive.copy()"
   ]
  },
  {
   "cell_type": "markdown",
   "metadata": {},
   "source": [
    "### Quality issues"
   ]
  },
  {
   "cell_type": "markdown",
   "metadata": {},
   "source": [
    "### Issue #1: 1.The column 'id' should be changed to tweet_id in the newapi Table"
   ]
  },
  {
   "cell_type": "markdown",
   "metadata": {},
   "source": [
    "#### Define: The column 'id' should be changed to tweet_id in the *newapi* Table "
   ]
  },
  {
   "cell_type": "markdown",
   "metadata": {},
   "source": [
    "#### Code"
   ]
  },
  {
   "cell_type": "code",
   "execution_count": 80,
   "metadata": {},
   "outputs": [],
   "source": [
    "clean_newapi = clean_newapi.rename(columns = {'id':'tweet_id'})"
   ]
  },
  {
   "cell_type": "markdown",
   "metadata": {},
   "source": [
    "#### Test"
   ]
  },
  {
   "cell_type": "code",
   "execution_count": 81,
   "metadata": {},
   "outputs": [
    {
     "data": {
      "text/html": [
       "<div>\n",
       "<style scoped>\n",
       "    .dataframe tbody tr th:only-of-type {\n",
       "        vertical-align: middle;\n",
       "    }\n",
       "\n",
       "    .dataframe tbody tr th {\n",
       "        vertical-align: top;\n",
       "    }\n",
       "\n",
       "    .dataframe thead th {\n",
       "        text-align: right;\n",
       "    }\n",
       "</style>\n",
       "<table border=\"1\" class=\"dataframe\">\n",
       "  <thead>\n",
       "    <tr style=\"text-align: right;\">\n",
       "      <th></th>\n",
       "      <th>tweet_id</th>\n",
       "      <th>favorite_count</th>\n",
       "      <th>retweet_count</th>\n",
       "    </tr>\n",
       "  </thead>\n",
       "  <tbody>\n",
       "    <tr>\n",
       "      <th>446</th>\n",
       "      <td>817415592588222464</td>\n",
       "      <td>5300</td>\n",
       "      <td>890</td>\n",
       "    </tr>\n",
       "    <tr>\n",
       "      <th>124</th>\n",
       "      <td>867421006826221569</td>\n",
       "      <td>14338</td>\n",
       "      <td>2118</td>\n",
       "    </tr>\n",
       "    <tr>\n",
       "      <th>1781</th>\n",
       "      <td>676821958043033607</td>\n",
       "      <td>20754</td>\n",
       "      <td>13808</td>\n",
       "    </tr>\n",
       "    <tr>\n",
       "      <th>2251</th>\n",
       "      <td>667393430834667520</td>\n",
       "      <td>168</td>\n",
       "      <td>50</td>\n",
       "    </tr>\n",
       "    <tr>\n",
       "      <th>1140</th>\n",
       "      <td>721001180231503872</td>\n",
       "      <td>2351</td>\n",
       "      <td>552</td>\n",
       "    </tr>\n",
       "  </tbody>\n",
       "</table>\n",
       "</div>"
      ],
      "text/plain": [
       "                tweet_id  favorite_count  retweet_count\n",
       "446   817415592588222464            5300            890\n",
       "124   867421006826221569           14338           2118\n",
       "1781  676821958043033607           20754          13808\n",
       "2251  667393430834667520             168             50\n",
       "1140  721001180231503872            2351            552"
      ]
     },
     "execution_count": 81,
     "metadata": {},
     "output_type": "execute_result"
    }
   ],
   "source": [
    "#Use the .sample() method to output the columns and five random samples\n",
    "\n",
    "clean_newapi.sample(5)"
   ]
  },
  {
   "cell_type": "markdown",
   "metadata": {},
   "source": [
    "### Issue #2: The names of dogs in columns p1, p2, and p3 have some uppercase and lowercase letters in the image_prediction Table"
   ]
  },
  {
   "cell_type": "markdown",
   "metadata": {
    "collapsed": true,
    "extensions": {
     "jupyter_dashboards": {
      "version": 1,
      "views": {
       "grid_default": {
        "hidden": true
       },
       "report_default": {
        "hidden": true
       }
      }
     }
    }
   },
   "source": [
    "#### Define: Using the .lower() to changes all series to lower case letters which is also a string, passing .str would do the job."
   ]
  },
  {
   "cell_type": "markdown",
   "metadata": {},
   "source": [
    "#### Code"
   ]
  },
  {
   "cell_type": "code",
   "execution_count": 82,
   "metadata": {},
   "outputs": [],
   "source": [
    "clean_image['p1'] = clean_image['p1'].str.lower()\n",
    "clean_image['p2'] = clean_image['p2'].str.lower()\n",
    "clean_image['p3'] = clean_image['p3'].str.lower()"
   ]
  },
  {
   "cell_type": "markdown",
   "metadata": {},
   "source": [
    "#### Test"
   ]
  },
  {
   "cell_type": "code",
   "execution_count": 83,
   "metadata": {},
   "outputs": [
    {
     "data": {
      "text/html": [
       "<div>\n",
       "<style scoped>\n",
       "    .dataframe tbody tr th:only-of-type {\n",
       "        vertical-align: middle;\n",
       "    }\n",
       "\n",
       "    .dataframe tbody tr th {\n",
       "        vertical-align: top;\n",
       "    }\n",
       "\n",
       "    .dataframe thead th {\n",
       "        text-align: right;\n",
       "    }\n",
       "</style>\n",
       "<table border=\"1\" class=\"dataframe\">\n",
       "  <thead>\n",
       "    <tr style=\"text-align: right;\">\n",
       "      <th></th>\n",
       "      <th>tweet_id</th>\n",
       "      <th>jpg_url</th>\n",
       "      <th>img_num</th>\n",
       "      <th>p1</th>\n",
       "      <th>p1_conf</th>\n",
       "      <th>p1_dog</th>\n",
       "      <th>p2</th>\n",
       "      <th>p2_conf</th>\n",
       "      <th>p2_dog</th>\n",
       "      <th>p3</th>\n",
       "      <th>p3_conf</th>\n",
       "      <th>p3_dog</th>\n",
       "    </tr>\n",
       "  </thead>\n",
       "  <tbody>\n",
       "    <tr>\n",
       "      <th>1667</th>\n",
       "      <td>812781120811126785</td>\n",
       "      <td>https://pbs.twimg.com/media/C0eUHfWUAAANEYr.jpg</td>\n",
       "      <td>1</td>\n",
       "      <td>bull_mastiff</td>\n",
       "      <td>0.989316</td>\n",
       "      <td>True</td>\n",
       "      <td>boxer</td>\n",
       "      <td>0.007043</td>\n",
       "      <td>True</td>\n",
       "      <td>french_bulldog</td>\n",
       "      <td>0.001740</td>\n",
       "      <td>True</td>\n",
       "    </tr>\n",
       "    <tr>\n",
       "      <th>1085</th>\n",
       "      <td>718613305783398402</td>\n",
       "      <td>https://pbs.twimg.com/media/CfkG_PMWsAAH0MZ.jpg</td>\n",
       "      <td>1</td>\n",
       "      <td>labrador_retriever</td>\n",
       "      <td>0.584580</td>\n",
       "      <td>True</td>\n",
       "      <td>german_short-haired_pointer</td>\n",
       "      <td>0.340657</td>\n",
       "      <td>True</td>\n",
       "      <td>chesapeake_bay_retriever</td>\n",
       "      <td>0.031975</td>\n",
       "      <td>True</td>\n",
       "    </tr>\n",
       "    <tr>\n",
       "      <th>1929</th>\n",
       "      <td>858471635011153920</td>\n",
       "      <td>https://pbs.twimg.com/media/C-nnZBdXkAAB-wg.jpg</td>\n",
       "      <td>1</td>\n",
       "      <td>pembroke</td>\n",
       "      <td>0.987407</td>\n",
       "      <td>True</td>\n",
       "      <td>cardigan</td>\n",
       "      <td>0.008723</td>\n",
       "      <td>True</td>\n",
       "      <td>basenji</td>\n",
       "      <td>0.003424</td>\n",
       "      <td>True</td>\n",
       "    </tr>\n",
       "    <tr>\n",
       "      <th>1399</th>\n",
       "      <td>768596291618299904</td>\n",
       "      <td>https://pbs.twimg.com/media/CqqaPjqWIAAOyNL.jpg</td>\n",
       "      <td>1</td>\n",
       "      <td>great_pyrenees</td>\n",
       "      <td>0.729745</td>\n",
       "      <td>True</td>\n",
       "      <td>golden_retriever</td>\n",
       "      <td>0.237961</td>\n",
       "      <td>True</td>\n",
       "      <td>labrador_retriever</td>\n",
       "      <td>0.020903</td>\n",
       "      <td>True</td>\n",
       "    </tr>\n",
       "    <tr>\n",
       "      <th>1006</th>\n",
       "      <td>709158332880297985</td>\n",
       "      <td>https://pbs.twimg.com/media/CddvvSwWoAUObQw.jpg</td>\n",
       "      <td>1</td>\n",
       "      <td>siberian_husky</td>\n",
       "      <td>0.212957</td>\n",
       "      <td>True</td>\n",
       "      <td>eskimo_dog</td>\n",
       "      <td>0.178887</td>\n",
       "      <td>True</td>\n",
       "      <td>labrador_retriever</td>\n",
       "      <td>0.174218</td>\n",
       "      <td>True</td>\n",
       "    </tr>\n",
       "    <tr>\n",
       "      <th>242</th>\n",
       "      <td>670449342516494336</td>\n",
       "      <td>https://pbs.twimg.com/media/CU3qHNTWsAApGr0.jpg</td>\n",
       "      <td>1</td>\n",
       "      <td>peacock</td>\n",
       "      <td>0.999924</td>\n",
       "      <td>False</td>\n",
       "      <td>european_gallinule</td>\n",
       "      <td>0.000030</td>\n",
       "      <td>False</td>\n",
       "      <td>agama</td>\n",
       "      <td>0.000022</td>\n",
       "      <td>False</td>\n",
       "    </tr>\n",
       "    <tr>\n",
       "      <th>156</th>\n",
       "      <td>668826086256599040</td>\n",
       "      <td>https://pbs.twimg.com/media/CUglxbFXAAA5O0d.jpg</td>\n",
       "      <td>1</td>\n",
       "      <td>malinois</td>\n",
       "      <td>0.640185</td>\n",
       "      <td>True</td>\n",
       "      <td>irish_terrier</td>\n",
       "      <td>0.153700</td>\n",
       "      <td>True</td>\n",
       "      <td>rhodesian_ridgeback</td>\n",
       "      <td>0.068457</td>\n",
       "      <td>True</td>\n",
       "    </tr>\n",
       "  </tbody>\n",
       "</table>\n",
       "</div>"
      ],
      "text/plain": [
       "                tweet_id                                          jpg_url  \\\n",
       "1667  812781120811126785  https://pbs.twimg.com/media/C0eUHfWUAAANEYr.jpg   \n",
       "1085  718613305783398402  https://pbs.twimg.com/media/CfkG_PMWsAAH0MZ.jpg   \n",
       "1929  858471635011153920  https://pbs.twimg.com/media/C-nnZBdXkAAB-wg.jpg   \n",
       "1399  768596291618299904  https://pbs.twimg.com/media/CqqaPjqWIAAOyNL.jpg   \n",
       "1006  709158332880297985  https://pbs.twimg.com/media/CddvvSwWoAUObQw.jpg   \n",
       "242   670449342516494336  https://pbs.twimg.com/media/CU3qHNTWsAApGr0.jpg   \n",
       "156   668826086256599040  https://pbs.twimg.com/media/CUglxbFXAAA5O0d.jpg   \n",
       "\n",
       "      img_num                  p1   p1_conf  p1_dog  \\\n",
       "1667        1        bull_mastiff  0.989316    True   \n",
       "1085        1  labrador_retriever  0.584580    True   \n",
       "1929        1            pembroke  0.987407    True   \n",
       "1399        1      great_pyrenees  0.729745    True   \n",
       "1006        1      siberian_husky  0.212957    True   \n",
       "242         1             peacock  0.999924   False   \n",
       "156         1            malinois  0.640185    True   \n",
       "\n",
       "                               p2   p2_conf  p2_dog                        p3  \\\n",
       "1667                        boxer  0.007043    True            french_bulldog   \n",
       "1085  german_short-haired_pointer  0.340657    True  chesapeake_bay_retriever   \n",
       "1929                     cardigan  0.008723    True                   basenji   \n",
       "1399             golden_retriever  0.237961    True        labrador_retriever   \n",
       "1006                   eskimo_dog  0.178887    True        labrador_retriever   \n",
       "242            european_gallinule  0.000030   False                     agama   \n",
       "156                 irish_terrier  0.153700    True       rhodesian_ridgeback   \n",
       "\n",
       "       p3_conf  p3_dog  \n",
       "1667  0.001740    True  \n",
       "1085  0.031975    True  \n",
       "1929  0.003424    True  \n",
       "1399  0.020903    True  \n",
       "1006  0.174218    True  \n",
       "242   0.000022   False  \n",
       "156   0.068457    True  "
      ]
     },
     "execution_count": 83,
     "metadata": {},
     "output_type": "execute_result"
    }
   ],
   "source": [
    "clean_image.sample(7)"
   ]
  },
  {
   "cell_type": "markdown",
   "metadata": {},
   "source": [
    "### Issue #3: text column has unnecesary HTML code in the twitter_archive Table"
   ]
  },
  {
   "cell_type": "markdown",
   "metadata": {},
   "source": [
    "#### Define: Change the html ampersand code from \"&amp ;\" to \"&\" in the text column, Remove the \"/n \" the newline symbol, Remove ending url link."
   ]
  },
  {
   "cell_type": "markdown",
   "metadata": {},
   "source": [
    "#### Code"
   ]
  },
  {
   "cell_type": "code",
   "execution_count": 84,
   "metadata": {},
   "outputs": [
    {
     "data": {
      "text/html": [
       "<div>\n",
       "<style scoped>\n",
       "    .dataframe tbody tr th:only-of-type {\n",
       "        vertical-align: middle;\n",
       "    }\n",
       "\n",
       "    .dataframe tbody tr th {\n",
       "        vertical-align: top;\n",
       "    }\n",
       "\n",
       "    .dataframe thead th {\n",
       "        text-align: right;\n",
       "    }\n",
       "</style>\n",
       "<table border=\"1\" class=\"dataframe\">\n",
       "  <thead>\n",
       "    <tr style=\"text-align: right;\">\n",
       "      <th></th>\n",
       "      <th>tweet_id</th>\n",
       "      <th>in_reply_to_status_id</th>\n",
       "      <th>in_reply_to_user_id</th>\n",
       "      <th>timestamp</th>\n",
       "      <th>source</th>\n",
       "      <th>text</th>\n",
       "      <th>retweeted_status_id</th>\n",
       "      <th>retweeted_status_user_id</th>\n",
       "      <th>retweeted_status_timestamp</th>\n",
       "      <th>expanded_urls</th>\n",
       "      <th>rating_numerator</th>\n",
       "      <th>rating_denominator</th>\n",
       "      <th>name</th>\n",
       "      <th>doggo</th>\n",
       "      <th>floofer</th>\n",
       "      <th>pupper</th>\n",
       "      <th>puppo</th>\n",
       "    </tr>\n",
       "  </thead>\n",
       "  <tbody>\n",
       "    <tr>\n",
       "      <th>0</th>\n",
       "      <td>892420643555336193</td>\n",
       "      <td>NaN</td>\n",
       "      <td>NaN</td>\n",
       "      <td>2017-08-01 16:23:56 +0000</td>\n",
       "      <td>&lt;a href=\"http://twitter.com/download/iphone\" r...</td>\n",
       "      <td>This is Phineas. He's a mystical boy. Only eve...</td>\n",
       "      <td>NaN</td>\n",
       "      <td>NaN</td>\n",
       "      <td>NaN</td>\n",
       "      <td>https://twitter.com/dog_rates/status/892420643...</td>\n",
       "      <td>13</td>\n",
       "      <td>10</td>\n",
       "      <td>Phineas</td>\n",
       "      <td>None</td>\n",
       "      <td>None</td>\n",
       "      <td>None</td>\n",
       "      <td>None</td>\n",
       "    </tr>\n",
       "    <tr>\n",
       "      <th>1</th>\n",
       "      <td>892177421306343426</td>\n",
       "      <td>NaN</td>\n",
       "      <td>NaN</td>\n",
       "      <td>2017-08-01 00:17:27 +0000</td>\n",
       "      <td>&lt;a href=\"http://twitter.com/download/iphone\" r...</td>\n",
       "      <td>This is Tilly. She's just checking pup on you....</td>\n",
       "      <td>NaN</td>\n",
       "      <td>NaN</td>\n",
       "      <td>NaN</td>\n",
       "      <td>https://twitter.com/dog_rates/status/892177421...</td>\n",
       "      <td>13</td>\n",
       "      <td>10</td>\n",
       "      <td>Tilly</td>\n",
       "      <td>None</td>\n",
       "      <td>None</td>\n",
       "      <td>None</td>\n",
       "      <td>None</td>\n",
       "    </tr>\n",
       "    <tr>\n",
       "      <th>2</th>\n",
       "      <td>891815181378084864</td>\n",
       "      <td>NaN</td>\n",
       "      <td>NaN</td>\n",
       "      <td>2017-07-31 00:18:03 +0000</td>\n",
       "      <td>&lt;a href=\"http://twitter.com/download/iphone\" r...</td>\n",
       "      <td>This is Archie. He is a rare Norwegian Pouncin...</td>\n",
       "      <td>NaN</td>\n",
       "      <td>NaN</td>\n",
       "      <td>NaN</td>\n",
       "      <td>https://twitter.com/dog_rates/status/891815181...</td>\n",
       "      <td>12</td>\n",
       "      <td>10</td>\n",
       "      <td>Archie</td>\n",
       "      <td>None</td>\n",
       "      <td>None</td>\n",
       "      <td>None</td>\n",
       "      <td>None</td>\n",
       "    </tr>\n",
       "    <tr>\n",
       "      <th>3</th>\n",
       "      <td>891689557279858688</td>\n",
       "      <td>NaN</td>\n",
       "      <td>NaN</td>\n",
       "      <td>2017-07-30 15:58:51 +0000</td>\n",
       "      <td>&lt;a href=\"http://twitter.com/download/iphone\" r...</td>\n",
       "      <td>This is Darla. She commenced a snooze mid meal...</td>\n",
       "      <td>NaN</td>\n",
       "      <td>NaN</td>\n",
       "      <td>NaN</td>\n",
       "      <td>https://twitter.com/dog_rates/status/891689557...</td>\n",
       "      <td>13</td>\n",
       "      <td>10</td>\n",
       "      <td>Darla</td>\n",
       "      <td>None</td>\n",
       "      <td>None</td>\n",
       "      <td>None</td>\n",
       "      <td>None</td>\n",
       "    </tr>\n",
       "    <tr>\n",
       "      <th>4</th>\n",
       "      <td>891327558926688256</td>\n",
       "      <td>NaN</td>\n",
       "      <td>NaN</td>\n",
       "      <td>2017-07-29 16:00:24 +0000</td>\n",
       "      <td>&lt;a href=\"http://twitter.com/download/iphone\" r...</td>\n",
       "      <td>This is Franklin. He would like you to stop ca...</td>\n",
       "      <td>NaN</td>\n",
       "      <td>NaN</td>\n",
       "      <td>NaN</td>\n",
       "      <td>https://twitter.com/dog_rates/status/891327558...</td>\n",
       "      <td>12</td>\n",
       "      <td>10</td>\n",
       "      <td>Franklin</td>\n",
       "      <td>None</td>\n",
       "      <td>None</td>\n",
       "      <td>None</td>\n",
       "      <td>None</td>\n",
       "    </tr>\n",
       "  </tbody>\n",
       "</table>\n",
       "</div>"
      ],
      "text/plain": [
       "             tweet_id  in_reply_to_status_id  in_reply_to_user_id  \\\n",
       "0  892420643555336193                    NaN                  NaN   \n",
       "1  892177421306343426                    NaN                  NaN   \n",
       "2  891815181378084864                    NaN                  NaN   \n",
       "3  891689557279858688                    NaN                  NaN   \n",
       "4  891327558926688256                    NaN                  NaN   \n",
       "\n",
       "                   timestamp  \\\n",
       "0  2017-08-01 16:23:56 +0000   \n",
       "1  2017-08-01 00:17:27 +0000   \n",
       "2  2017-07-31 00:18:03 +0000   \n",
       "3  2017-07-30 15:58:51 +0000   \n",
       "4  2017-07-29 16:00:24 +0000   \n",
       "\n",
       "                                              source  \\\n",
       "0  <a href=\"http://twitter.com/download/iphone\" r...   \n",
       "1  <a href=\"http://twitter.com/download/iphone\" r...   \n",
       "2  <a href=\"http://twitter.com/download/iphone\" r...   \n",
       "3  <a href=\"http://twitter.com/download/iphone\" r...   \n",
       "4  <a href=\"http://twitter.com/download/iphone\" r...   \n",
       "\n",
       "                                                text  retweeted_status_id  \\\n",
       "0  This is Phineas. He's a mystical boy. Only eve...                  NaN   \n",
       "1  This is Tilly. She's just checking pup on you....                  NaN   \n",
       "2  This is Archie. He is a rare Norwegian Pouncin...                  NaN   \n",
       "3  This is Darla. She commenced a snooze mid meal...                  NaN   \n",
       "4  This is Franklin. He would like you to stop ca...                  NaN   \n",
       "\n",
       "   retweeted_status_user_id retweeted_status_timestamp  \\\n",
       "0                       NaN                        NaN   \n",
       "1                       NaN                        NaN   \n",
       "2                       NaN                        NaN   \n",
       "3                       NaN                        NaN   \n",
       "4                       NaN                        NaN   \n",
       "\n",
       "                                       expanded_urls  rating_numerator  \\\n",
       "0  https://twitter.com/dog_rates/status/892420643...                13   \n",
       "1  https://twitter.com/dog_rates/status/892177421...                13   \n",
       "2  https://twitter.com/dog_rates/status/891815181...                12   \n",
       "3  https://twitter.com/dog_rates/status/891689557...                13   \n",
       "4  https://twitter.com/dog_rates/status/891327558...                12   \n",
       "\n",
       "   rating_denominator      name doggo floofer pupper puppo  \n",
       "0                  10   Phineas  None    None   None  None  \n",
       "1                  10     Tilly  None    None   None  None  \n",
       "2                  10    Archie  None    None   None  None  \n",
       "3                  10     Darla  None    None   None  None  \n",
       "4                  10  Franklin  None    None   None  None  "
      ]
     },
     "execution_count": 84,
     "metadata": {},
     "output_type": "execute_result"
    }
   ],
   "source": [
    "# Check header\n",
    "\n",
    "clean_tweet.head()"
   ]
  },
  {
   "cell_type": "code",
   "execution_count": 85,
   "metadata": {},
   "outputs": [
    {
     "data": {
      "text/plain": [
       "array([ \"This is Phineas. He's a mystical boy. Only ever appears in the hole of a donut. 13/10 https://t.co/MgUWQ76dJU\",\n",
       "       \"This is Tilly. She's just checking pup on you. Hopes you're doing ok. If not, she's available for pats, snugs, boops, the whole bit. 13/10 https://t.co/0Xxu71qeIV\",\n",
       "       'This is Archie. He is a rare Norwegian Pouncing Corgo. Lives in the tall grass. You never know when one may strike. 12/10 https://t.co/wUnZnhtVJB',\n",
       "       ...,\n",
       "       'Here is a very happy pup. Big fan of well-maintained decks. Just look at that tongue. 9/10 would cuddle af https://t.co/y671yMhoiR',\n",
       "       'This is a western brown Mitsubishi terrier. Upset about leaf. Actually 2 dogs here. 7/10 would walk the shit out of https://t.co/r7mOb2m0UI',\n",
       "       'Here we have a Japanese Irish Setter. Lost eye in Vietnam (?). Big fan of relaxing on stair. 8/10 would pet https://t.co/BLDqew2Ijj'], dtype=object)"
      ]
     },
     "execution_count": 85,
     "metadata": {},
     "output_type": "execute_result"
    }
   ],
   "source": [
    "# Check unique texts\n",
    "\n",
    "clean_tweet['text'].unique()"
   ]
  },
  {
   "cell_type": "code",
   "execution_count": 86,
   "metadata": {},
   "outputs": [],
   "source": [
    "\n",
    "clean_tweet['text'] = clean_tweet.text.str.replace(\"&amp ;\", \"&\")\n",
    "clean_tweet['text'] = clean_tweet.text.str.replace(\"/n \", ' ')\n",
    "clean_tweet['text'] = clean_tweet.text.str.rstrip()\n",
    "clean_tweet['text'] = clean_tweet.text.str.replace(r\"http\\S+\", \"\")"
   ]
  },
  {
   "cell_type": "markdown",
   "metadata": {},
   "source": [
    "#### Test"
   ]
  },
  {
   "cell_type": "code",
   "execution_count": 87,
   "metadata": {},
   "outputs": [
    {
     "data": {
      "text/plain": [
       "array([ \"This is Phineas. He's a mystical boy. Only ever appears in the hole of a donut. 13/10 \",\n",
       "       \"This is Tilly. She's just checking pup on you. Hopes you're doing ok. If not, she's available for pats, snugs, boops, the whole bit. 13/10 \",\n",
       "       'This is Archie. He is a rare Norwegian Pouncing Corgo. Lives in the tall grass. You never know when one may strike. 12/10 ',\n",
       "       ...,\n",
       "       'Here is a very happy pup. Big fan of well-maintained decks. Just look at that tongue. 9/10 would cuddle af ',\n",
       "       'This is a western brown Mitsubishi terrier. Upset about leaf. Actually 2 dogs here. 7/10 would walk the shit out of ',\n",
       "       'Here we have a Japanese Irish Setter. Lost eye in Vietnam (?). Big fan of relaxing on stair. 8/10 would pet '], dtype=object)"
      ]
     },
     "execution_count": 87,
     "metadata": {},
     "output_type": "execute_result"
    }
   ],
   "source": [
    "# Check unique texts again\n",
    "\n",
    "clean_tweet.text.unique()"
   ]
  },
  {
   "cell_type": "markdown",
   "metadata": {},
   "source": [
    "### Issue #4: Missing values in columns: in_reply_to_status_id, in_reply_to_user_id, retweeted_status_id, retweeted_status_user_id, and expanded_urls in the twitter_archive Table"
   ]
  },
  {
   "cell_type": "markdown",
   "metadata": {},
   "source": [
    "#### Define: The columns having missing values (Nan) would be droped with the .dropna() function.\n"
   ]
  },
  {
   "cell_type": "markdown",
   "metadata": {},
   "source": [
    "#### Code"
   ]
  },
  {
   "cell_type": "code",
   "execution_count": 88,
   "metadata": {},
   "outputs": [],
   "source": [
    "clean_tweet = clean_tweet.drop(columns=[\"in_reply_to_status_id\",\n",
    "                                    \"in_reply_to_user_id\",\n",
    "                                    \"retweeted_status_id\",\n",
    "                                    \"retweeted_status_user_id\",\n",
    "                                   \"retweeted_status_timestamp\"], axis=1)\n"
   ]
  },
  {
   "cell_type": "markdown",
   "metadata": {},
   "source": [
    "#### Test"
   ]
  },
  {
   "cell_type": "code",
   "execution_count": 89,
   "metadata": {},
   "outputs": [
    {
     "name": "stdout",
     "output_type": "stream",
     "text": [
      "<class 'pandas.core.frame.DataFrame'>\n",
      "RangeIndex: 2356 entries, 0 to 2355\n",
      "Data columns (total 12 columns):\n",
      "tweet_id              2356 non-null int64\n",
      "timestamp             2356 non-null object\n",
      "source                2356 non-null object\n",
      "text                  2356 non-null object\n",
      "expanded_urls         2297 non-null object\n",
      "rating_numerator      2356 non-null int64\n",
      "rating_denominator    2356 non-null int64\n",
      "name                  2356 non-null object\n",
      "doggo                 2356 non-null object\n",
      "floofer               2356 non-null object\n",
      "pupper                2356 non-null object\n",
      "puppo                 2356 non-null object\n",
      "dtypes: int64(3), object(9)\n",
      "memory usage: 221.0+ KB\n"
     ]
    }
   ],
   "source": [
    "# Check information of the dataframe\n",
    "\n",
    "clean_tweet.info()"
   ]
  },
  {
   "cell_type": "markdown",
   "metadata": {},
   "source": [
    "### Issue #5: 'timestamp' should be a datetime64 dtype type as well in the Twitter_archive Table"
   ]
  },
  {
   "cell_type": "markdown",
   "metadata": {},
   "source": [
    "#### Define: Using the pandas .to_datetime to convert the 'timestamp' to a datetime64[ns, UTC]"
   ]
  },
  {
   "cell_type": "markdown",
   "metadata": {},
   "source": [
    "#### Code"
   ]
  },
  {
   "cell_type": "code",
   "execution_count": 90,
   "metadata": {},
   "outputs": [],
   "source": [
    "clean_tweet['timestamp'] = pd.to_datetime(clean_tweet['timestamp'])\n"
   ]
  },
  {
   "cell_type": "markdown",
   "metadata": {},
   "source": [
    "#### Test"
   ]
  },
  {
   "cell_type": "code",
   "execution_count": 91,
   "metadata": {},
   "outputs": [
    {
     "name": "stdout",
     "output_type": "stream",
     "text": [
      "<class 'pandas.core.frame.DataFrame'>\n",
      "RangeIndex: 2356 entries, 0 to 2355\n",
      "Data columns (total 12 columns):\n",
      "tweet_id              2356 non-null int64\n",
      "timestamp             2356 non-null datetime64[ns]\n",
      "source                2356 non-null object\n",
      "text                  2356 non-null object\n",
      "expanded_urls         2297 non-null object\n",
      "rating_numerator      2356 non-null int64\n",
      "rating_denominator    2356 non-null int64\n",
      "name                  2356 non-null object\n",
      "doggo                 2356 non-null object\n",
      "floofer               2356 non-null object\n",
      "pupper                2356 non-null object\n",
      "puppo                 2356 non-null object\n",
      "dtypes: datetime64[ns](1), int64(3), object(8)\n",
      "memory usage: 221.0+ KB\n"
     ]
    }
   ],
   "source": [
    "clean_tweet.info()"
   ]
  },
  {
   "cell_type": "markdown",
   "metadata": {},
   "source": [
    "### Issue #6: Remove the source column in the twitter_archive Table"
   ]
  },
  {
   "cell_type": "markdown",
   "metadata": {},
   "source": [
    "#### Define: Drop the column source with the .drop() Method"
   ]
  },
  {
   "cell_type": "markdown",
   "metadata": {},
   "source": [
    "#### Code"
   ]
  },
  {
   "cell_type": "code",
   "execution_count": 92,
   "metadata": {},
   "outputs": [],
   "source": [
    "clean_tweet.drop(columns='source', axis = 1 , inplace =True)"
   ]
  },
  {
   "cell_type": "markdown",
   "metadata": {},
   "source": [
    "#### Test"
   ]
  },
  {
   "cell_type": "code",
   "execution_count": 93,
   "metadata": {},
   "outputs": [
    {
     "data": {
      "text/html": [
       "<div>\n",
       "<style scoped>\n",
       "    .dataframe tbody tr th:only-of-type {\n",
       "        vertical-align: middle;\n",
       "    }\n",
       "\n",
       "    .dataframe tbody tr th {\n",
       "        vertical-align: top;\n",
       "    }\n",
       "\n",
       "    .dataframe thead th {\n",
       "        text-align: right;\n",
       "    }\n",
       "</style>\n",
       "<table border=\"1\" class=\"dataframe\">\n",
       "  <thead>\n",
       "    <tr style=\"text-align: right;\">\n",
       "      <th></th>\n",
       "      <th>tweet_id</th>\n",
       "      <th>timestamp</th>\n",
       "      <th>text</th>\n",
       "      <th>expanded_urls</th>\n",
       "      <th>rating_numerator</th>\n",
       "      <th>rating_denominator</th>\n",
       "      <th>name</th>\n",
       "      <th>doggo</th>\n",
       "      <th>floofer</th>\n",
       "      <th>pupper</th>\n",
       "      <th>puppo</th>\n",
       "    </tr>\n",
       "  </thead>\n",
       "  <tbody>\n",
       "    <tr>\n",
       "      <th>0</th>\n",
       "      <td>892420643555336193</td>\n",
       "      <td>2017-08-01 16:23:56</td>\n",
       "      <td>This is Phineas. He's a mystical boy. Only eve...</td>\n",
       "      <td>https://twitter.com/dog_rates/status/892420643...</td>\n",
       "      <td>13</td>\n",
       "      <td>10</td>\n",
       "      <td>Phineas</td>\n",
       "      <td>None</td>\n",
       "      <td>None</td>\n",
       "      <td>None</td>\n",
       "      <td>None</td>\n",
       "    </tr>\n",
       "    <tr>\n",
       "      <th>1</th>\n",
       "      <td>892177421306343426</td>\n",
       "      <td>2017-08-01 00:17:27</td>\n",
       "      <td>This is Tilly. She's just checking pup on you....</td>\n",
       "      <td>https://twitter.com/dog_rates/status/892177421...</td>\n",
       "      <td>13</td>\n",
       "      <td>10</td>\n",
       "      <td>Tilly</td>\n",
       "      <td>None</td>\n",
       "      <td>None</td>\n",
       "      <td>None</td>\n",
       "      <td>None</td>\n",
       "    </tr>\n",
       "    <tr>\n",
       "      <th>2</th>\n",
       "      <td>891815181378084864</td>\n",
       "      <td>2017-07-31 00:18:03</td>\n",
       "      <td>This is Archie. He is a rare Norwegian Pouncin...</td>\n",
       "      <td>https://twitter.com/dog_rates/status/891815181...</td>\n",
       "      <td>12</td>\n",
       "      <td>10</td>\n",
       "      <td>Archie</td>\n",
       "      <td>None</td>\n",
       "      <td>None</td>\n",
       "      <td>None</td>\n",
       "      <td>None</td>\n",
       "    </tr>\n",
       "  </tbody>\n",
       "</table>\n",
       "</div>"
      ],
      "text/plain": [
       "             tweet_id           timestamp  \\\n",
       "0  892420643555336193 2017-08-01 16:23:56   \n",
       "1  892177421306343426 2017-08-01 00:17:27   \n",
       "2  891815181378084864 2017-07-31 00:18:03   \n",
       "\n",
       "                                                text  \\\n",
       "0  This is Phineas. He's a mystical boy. Only eve...   \n",
       "1  This is Tilly. She's just checking pup on you....   \n",
       "2  This is Archie. He is a rare Norwegian Pouncin...   \n",
       "\n",
       "                                       expanded_urls  rating_numerator  \\\n",
       "0  https://twitter.com/dog_rates/status/892420643...                13   \n",
       "1  https://twitter.com/dog_rates/status/892177421...                13   \n",
       "2  https://twitter.com/dog_rates/status/891815181...                12   \n",
       "\n",
       "   rating_denominator     name doggo floofer pupper puppo  \n",
       "0                  10  Phineas  None    None   None  None  \n",
       "1                  10    Tilly  None    None   None  None  \n",
       "2                  10   Archie  None    None   None  None  "
      ]
     },
     "execution_count": 93,
     "metadata": {},
     "output_type": "execute_result"
    }
   ],
   "source": [
    "clean_tweet.head(3)"
   ]
  },
  {
   "cell_type": "markdown",
   "metadata": {},
   "source": [
    "### Issue #7: Drops rows with duplicates in the jpg_url column"
   ]
  },
  {
   "cell_type": "markdown",
   "metadata": {},
   "source": [
    "#### Define: Using the drop_duplicates() method to drop duplicates"
   ]
  },
  {
   "cell_type": "markdown",
   "metadata": {},
   "source": [
    "#### Code"
   ]
  },
  {
   "cell_type": "code",
   "execution_count": 94,
   "metadata": {},
   "outputs": [
    {
     "data": {
      "text/plain": [
       "66"
      ]
     },
     "execution_count": 94,
     "metadata": {},
     "output_type": "execute_result"
    }
   ],
   "source": [
    "#Check duplicates\n",
    "\n",
    "clean_image.jpg_url.duplicated().sum()"
   ]
  },
  {
   "cell_type": "code",
   "execution_count": 95,
   "metadata": {},
   "outputs": [],
   "source": [
    "# drop duplicated rows\n",
    "\n",
    "clean_image = clean_image.drop_duplicates('jpg_url')"
   ]
  },
  {
   "cell_type": "markdown",
   "metadata": {},
   "source": [
    "#### Test"
   ]
  },
  {
   "cell_type": "code",
   "execution_count": 96,
   "metadata": {},
   "outputs": [
    {
     "data": {
      "text/plain": [
       "0"
      ]
     },
     "execution_count": 96,
     "metadata": {},
     "output_type": "execute_result"
    }
   ],
   "source": [
    "clean_image.jpg_url.duplicated().sum()"
   ]
  },
  {
   "cell_type": "code",
   "execution_count": null,
   "metadata": {},
   "outputs": [],
   "source": []
  },
  {
   "cell_type": "markdown",
   "metadata": {},
   "source": [
    "### Issue #8: Change timestamp format from \"2017-07-26 15:59:51+00:00\" to \"2017, 2016, 2015....\"\""
   ]
  },
  {
   "cell_type": "markdown",
   "metadata": {},
   "source": [
    "#### Define: Creating a new colum year and use the to convert the pd.DatetimeIndex().year"
   ]
  },
  {
   "cell_type": "markdown",
   "metadata": {},
   "source": [
    "#### Code"
   ]
  },
  {
   "cell_type": "code",
   "execution_count": 97,
   "metadata": {},
   "outputs": [],
   "source": [
    "clean_tweet['year'] = pd.DatetimeIndex(clean_tweet['timestamp']).year\n"
   ]
  },
  {
   "cell_type": "markdown",
   "metadata": {},
   "source": [
    "#### Test"
   ]
  },
  {
   "cell_type": "code",
   "execution_count": 98,
   "metadata": {},
   "outputs": [
    {
     "data": {
      "text/plain": [
       "array([2017, 2016, 2015])"
      ]
     },
     "execution_count": 98,
     "metadata": {},
     "output_type": "execute_result"
    }
   ],
   "source": [
    "clean_tweet.year.unique()"
   ]
  },
  {
   "cell_type": "code",
   "execution_count": null,
   "metadata": {},
   "outputs": [],
   "source": []
  },
  {
   "cell_type": "markdown",
   "metadata": {},
   "source": [
    "### Tidiness "
   ]
  },
  {
   "cell_type": "markdown",
   "metadata": {},
   "source": [
    "### Issue #1: Merge all three tables into one."
   ]
  },
  {
   "cell_type": "markdown",
   "metadata": {},
   "source": [
    "#### Define:"
   ]
  },
  {
   "cell_type": "markdown",
   "metadata": {},
   "source": [
    "#### Code"
   ]
  },
  {
   "cell_type": "code",
   "execution_count": 100,
   "metadata": {},
   "outputs": [
    {
     "data": {
      "text/plain": [
       "array(['Abby', 'Ace', 'Acro', 'Adele', 'Aiden', 'Aja', 'Akumi', 'Al',\n",
       "       'Albert', 'Albus', 'Aldrick', 'Alejandro', 'Alexander',\n",
       "       'Alexanderson', 'Alf', 'Alfie', 'Alfy', 'Alice', 'Amber', 'Ambrose',\n",
       "       'Amy', 'Amélie', 'Anakin', 'Andru', 'Andy', 'Angel', 'Anna',\n",
       "       'Anthony', 'Antony', 'Apollo', 'Aqua', 'Archie', 'Arlen', 'Arlo',\n",
       "       'Arnie', 'Arnold', 'Arya', 'Ash', 'Asher', 'Ashleigh', 'Aspen',\n",
       "       'Astrid', 'Atlas', 'Atticus', 'Aubie', 'Augie', 'Autumn', 'Ava',\n",
       "       'Axel', 'Bailey', 'Baloo', 'Balto', 'Banditt', 'Banjo', 'Barclay',\n",
       "       'Barney', 'Baron', 'Barry', 'Batdog', 'Bauer', 'Baxter', 'Bayley',\n",
       "       'BeBe', 'Bear', 'Beau', 'Beckham', 'Beebop', 'Beemo', 'Bell',\n",
       "       'Bella', 'Belle', 'Ben', 'Benedict', 'Benji', 'Benny', 'Bentley',\n",
       "       'Berb', 'Berkeley', 'Bernie', 'Bert', 'Bertson', 'Betty', 'Beya',\n",
       "       'Biden', 'Bilbo', 'Billl', 'Billy', 'Binky', 'Birf', 'Bisquick',\n",
       "       'Blakely', 'Blanket', 'Blipson', 'Blitz', 'Bloo', 'Bloop', 'Blu',\n",
       "       'Blue', 'Bluebert', 'Bo', 'Bob', 'Bobb', 'Bobbay', 'Bobble',\n",
       "       'Bobby', 'Bode', 'Bodie', 'Bonaparte', 'Bones', 'Bookstore',\n",
       "       'Boomer', 'Boots', 'Boston', 'Bowie', 'Brad', 'Bradlay', 'Bradley',\n",
       "       'Brady', 'Brandi', 'Brandonald', 'Brandy', 'Brat', 'Brian',\n",
       "       'Brockly', 'Brody', 'Bronte', 'Brooks', 'Brownie', 'Bruce',\n",
       "       'Brudge', 'Bruiser', 'Bruno', 'Brutus', 'Bubba', 'Bubbles',\n",
       "       'Buckley', 'Buddah', 'Buddy', 'Bungalo', 'Burt', 'Butter',\n",
       "       'Butters', 'Cal', 'Calbert', 'Cali', 'Callie', 'Calvin', 'Canela',\n",
       "       'Cannon', 'Carbon', 'Carl', 'Carll', 'Carly', 'Carper', 'Carter',\n",
       "       'Caryl', 'Cash', 'Cassie', 'CeCe', 'Cecil', 'Cedrick', 'Cermet',\n",
       "       'Chadrick', 'Champ', 'Charl', 'Charles', 'Charleson', 'Charlie',\n",
       "       'Chase', 'Chaz', 'Cheesy', 'Chef', 'Chelsea', 'Cheryl', 'Chesney',\n",
       "       'Chester', 'Chesterson', 'Chet', 'Chevy', 'Chip', 'Chipson',\n",
       "       'Chloe', 'Chompsky', 'Christoper', 'Chubbs', 'Chuck', 'Chuckles',\n",
       "       'Chuq', 'Churlie', 'Cilantro', 'Clarence', 'Clark', 'Clarkus',\n",
       "       'Clarq', 'Claude', 'Cleopatricia', 'Clifford', 'Clybe', 'Clyde',\n",
       "       'Coco', 'Cody', 'Colby', 'Coleman', 'Colin', 'Combo', 'Comet',\n",
       "       'Cooper', 'Coops', 'Coopson', 'Cora', 'Corey', 'Covach', 'Craig',\n",
       "       'Crawford', 'Creg', 'Crimson', 'Crouton', 'Crumpet', 'Crystal',\n",
       "       'Cuddles', 'Cupcake', 'Cupid', 'Curtis', 'Daisy', 'Dakota', 'Dale',\n",
       "       'Dallas', 'Damon', 'Daniel', 'Danny', 'Dante', 'Darby', 'Darla',\n",
       "       'Darrel', 'Dash', 'Dave', 'Davey', 'Dawn', 'DayZ', 'Deacon',\n",
       "       'Derby', 'Derek', 'Devón', 'Dewey', 'Dex', 'Dexter', 'Dido',\n",
       "       'Dietrich', 'Diogi', 'Divine', 'Dixie', 'Django', 'Dobby', 'Doc',\n",
       "       'DonDon', 'Donny', 'Doobert', 'Dook', 'Dot', 'Dotsy', 'Doug',\n",
       "       'Duchess', 'Duddles', 'Dudley', 'Dug', 'Duke', 'Dunkin', 'Durg',\n",
       "       'Dutch', 'Dwight', 'Dylan', 'Earl', 'Eazy', 'Ebby', 'Ed', 'Edd',\n",
       "       'Edgar', 'Edmund', 'Eevee', 'Einstein', 'Eleanor', 'Eli', 'Ellie',\n",
       "       'Elliot', 'Emanuel', 'Ember', 'Emma', 'Emmie', 'Emmy', 'Enchilada',\n",
       "       'Erik', 'Eriq', 'Ester', 'Eugene', 'Eve', 'Evy', 'Fabio', 'Farfle',\n",
       "       'Ferg', 'Fido', 'Fiji', 'Fillup', 'Filup', 'Finley', 'Finn',\n",
       "       'Finnegus', 'Fiona', 'Fizz', 'Flash', 'Fletcher', 'Florence',\n",
       "       'Flurpson', 'Flávio', 'Frank', 'Frankie', 'Franklin', 'Franq',\n",
       "       'Fred', 'Freddery', 'Frönq', 'Furzey', 'Fwed', 'Fynn', 'Gabby',\n",
       "       'Gabe', 'Gary', 'General', 'Genevieve', 'Geno', 'Geoff', 'George',\n",
       "       'Georgie', 'Gerald', 'Gerbald', 'Gert', 'Gidget', 'Gilbert', 'Gin',\n",
       "       'Ginger', 'Gizmo', 'Glacier', 'Glenn', 'Godi', 'Godzilla',\n",
       "       'Goliath', 'Goose', 'Gordon', 'Grady', 'Grey', 'Griffin',\n",
       "       'Griswold', 'Grizz', 'Grizzie', 'Grizzwald', 'Gromit', 'Gunner',\n",
       "       'Gus', 'Gustaf', 'Gustav', 'Gòrdón', 'Hall', 'Halo', 'Hammond',\n",
       "       'Hamrick', 'Hank', 'Hanz', 'Happy', 'Harlso', 'Harnold', 'Harold',\n",
       "       'Harper', 'Harrison', 'Harry', 'Harvey', 'Hazel', 'Hector',\n",
       "       'Heinrich', 'Henry', 'Herald', 'Herb', 'Hercules', 'Herm',\n",
       "       'Hermione', 'Hero', 'Herschel', 'Hobbes', 'Holly', 'Horace',\n",
       "       'Howie', 'Hubertson', 'Huck', 'Humphrey', 'Hunter', 'Hurley',\n",
       "       'Huxley', 'Iggy', 'Ike', 'Indie', 'Iroh', 'Ito', 'Ivar', 'Izzy',\n",
       "       'JD', 'Jack', 'Jackie', 'Jackson', 'Jameson', 'Jamesy', 'Jangle',\n",
       "       'Jareld', 'Jarod', 'Jarvis', 'Jaspers', 'Jax', 'Jay', 'Jaycob',\n",
       "       'Jazz', 'Jazzy', 'Jeb', 'Jebberson', 'Jed', 'Jeffrey', 'Jeffri',\n",
       "       'Jeffrie', 'Jennifur', 'Jeph', 'Jeremy', 'Jerome', 'Jerry',\n",
       "       'Jersey', 'Jesse', 'Jessifer', 'Jessiga', 'Jett', 'Jim', 'Jimbo',\n",
       "       'Jiminus', 'Jiminy', 'Jimison', 'Jimothy', 'Jo', 'Jockson', 'Joey',\n",
       "       'Jomathan', 'Jonah', 'Jordy', 'Josep', 'Joshwa', 'Juckson', 'Julio',\n",
       "       'Julius', 'Juno', 'Kaia', 'Kaiya', 'Kallie', 'Kane', 'Kanu', 'Kara',\n",
       "       'Karl', 'Karll', 'Karma', 'Kathmandu', 'Katie', 'Kawhi', 'Kayla',\n",
       "       'Keet', 'Keith', 'Kellogg', 'Ken', 'Kendall', 'Kenneth', 'Kenny',\n",
       "       'Kenzie', 'Keurig', 'Kevin', 'Kevon', 'Kial', 'Kilo', 'Kingsley',\n",
       "       'Kirby', 'Kirk', 'Klein', 'Klevin', 'Kloey', 'Kobe', 'Koda', 'Kody',\n",
       "       'Koko', 'Kollin', 'Kona', 'Kota', 'Kramer', 'Kreg', 'Kreggory',\n",
       "       'Kulet', 'Kuyu', 'Kyle', 'Kyro', 'Lacy', 'Laela', 'Laika',\n",
       "       'Lambeau', 'Lance', 'Larry', 'Lassie', 'Layla', 'Leela', 'Lennon',\n",
       "       'Lenny', 'Lenox', 'Leo', 'Leonard', 'Leonidas', 'Levi', 'Liam',\n",
       "       'Lilah', 'Lili', 'Lilli', 'Lillie', 'Lilly', 'Lily', 'Lincoln',\n",
       "       'Linda', 'Link', 'Linus', 'Lipton', 'Livvie', 'Lizzie', 'Logan',\n",
       "       'Loki', 'Lola', 'Lolo', 'Longfellow', 'Loomis', 'Lorelei',\n",
       "       'Lorenzo', 'Lou', 'Louie', 'Louis', 'Luca', 'Lucia', 'Lucky',\n",
       "       'Lucy', 'Lugan', 'Lulu', 'Luna', 'Lupe', 'Luther', 'Mabel', 'Mac',\n",
       "       'Mack', 'Maddie', 'Maggie', 'Mairi', 'Maisey', 'Major', 'Maks',\n",
       "       'Malcolm', 'Malikai', 'Margo', 'Mark', 'Marlee', 'Marley', 'Marq',\n",
       "       'Marty', 'Marvin', 'Mary', 'Mason', 'Mattie', 'Maude', 'Mauve',\n",
       "       'Max', 'Maxaroni', 'Maximus', 'Maxwell', 'Maya', 'Meatball',\n",
       "       'Meera', 'Meyer', 'Mia', 'Michelangelope', 'Miguel', 'Mike',\n",
       "       'Miley', 'Milky', 'Millie', 'Milo', 'Mimosa', 'Mingus', 'Mister',\n",
       "       'Misty', 'Mitch', 'Mo', 'Moe', 'Mojo', 'Mollie', 'Molly', 'Mona',\n",
       "       'Monkey', 'Monster', 'Monty', 'Moofasa', 'Mookie', 'Moose',\n",
       "       'Moreton', 'Mosby', 'Murphy', 'Mutt', 'Mya', 'Nala', 'Naphaniel',\n",
       "       'Napolean', 'Nelly', 'Neptune', 'Newt', 'Nico', 'Nida', 'Nigel',\n",
       "       'Nimbus', 'Noah', 'Nollie', 'None', 'Noosh', 'Norman', 'Nugget',\n",
       "       'O', 'Oakley', 'Obi', 'Obie', 'Oddie', 'Odie', 'Odin', 'Olaf',\n",
       "       'Ole', 'Olive', 'Oliver', 'Olivia', 'Oliviér', 'Ollie', 'Opal',\n",
       "       'Opie', 'Oreo', 'Orion', 'Oscar', 'Oshie', 'Otis', 'Ozzie', 'Ozzy',\n",
       "       'Pablo', 'Paisley', 'Pancake', 'Panda', 'Patch', 'Patrick', 'Paull',\n",
       "       'Pavlov', 'Pawnd', 'Peaches', 'Peanut', 'Penelope', 'Penny',\n",
       "       'Pepper', 'Percy', 'Perry', 'Pete', 'Petrick', 'Pherb', 'Phil',\n",
       "       'Philbert', 'Philippe', 'Phineas', 'Phred', 'Pickles', 'Pilot',\n",
       "       'Pinot', 'Pip', 'Piper', 'Pippa', 'Pippin', 'Pipsy', 'Pluto',\n",
       "       'Poppy', 'Pubert', 'Puff', 'Pumpkin', 'Pupcasso', 'Quinn', 'Ralf',\n",
       "       'Ralph', 'Ralpher', 'Ralphie', 'Ralphson', 'Ralphus', 'Ralphy',\n",
       "       'Ralphé', 'Rambo', 'Randall', 'Raphael', 'Rascal', 'Raymond',\n",
       "       'Reagan', 'Reese', 'Reggie', 'Reginald', 'Remington', 'Remus',\n",
       "       'Remy', 'Reptar', 'Rey', 'Rhino', 'Richie', 'Ricky', 'Ridley',\n",
       "       'Riley', 'Rilo', 'Rinna', 'River', 'Rizzo', 'Rizzy', 'Robin',\n",
       "       'Rocco', 'Rocky', 'Rodman', 'Rodney', 'Rolf', 'Romeo', 'Ron',\n",
       "       'Ronduh', 'Ronnie', 'Rontu', 'Rooney', 'Roosevelt', 'Rorie', 'Rory',\n",
       "       'Roscoe', 'Rose', 'Rosie', 'Rover', 'Rubio', 'Ruby', 'Rudy',\n",
       "       'Rueben', 'Ruffles', 'Rufio', 'Rufus', 'Rumble', 'Rumpole',\n",
       "       'Rupert', 'Rusty', 'Sadie', 'Sage', 'Sailer', 'Sailor', 'Sam',\n",
       "       'Sammy', 'Sampson', 'Samsom', 'Samson', 'Sandra', 'Sandy', 'Sansa',\n",
       "       'Sarge', 'Saydee', 'Schnitzel', 'Schnozz', 'Scooter', 'Scott',\n",
       "       'Scout', 'Scruffers', 'Seamus', 'Sebastian', 'Sephie', 'Severus',\n",
       "       'Shadoe', 'Shadow', 'Shaggy', 'Shakespeare', 'Shawwn', 'Shelby',\n",
       "       'Shikha', 'Shiloh', 'Shnuggles', 'Shooter', 'Siba', 'Sid', 'Sierra',\n",
       "       'Simba', 'Skittle', 'Skittles', 'Sky', 'Skye', 'Smiley', 'Smokey',\n",
       "       'Snickers', 'Snicku', 'Snoop', 'Snoopy', 'Sobe', 'Socks',\n",
       "       'Sojourner', 'Solomon', 'Sonny', 'Sophie', 'Sora', 'Spanky',\n",
       "       'Spark', 'Sparky', 'Spencer', 'Sprinkles', 'Sprout', 'Staniel',\n",
       "       'Stanley', 'Stark', 'Stefan', 'Stella', 'Stephan', 'Stephanus',\n",
       "       'Steve', 'Steven', 'Stewie', 'Storkson', 'Stormy', 'Strider',\n",
       "       'Striker', 'Strudel', 'Stu', 'Stuart', 'Stubert', 'Sugar', 'Suki',\n",
       "       'Sully', 'Sundance', 'Sunny', 'Sunshine', 'Superpup', 'Swagger',\n",
       "       'Sweet', 'Sweets', 'Taco', 'Tango', 'Tanner', 'Tassy', 'Tater',\n",
       "       'Tayzie', 'Taz', 'Tebow', 'Ted', 'Tedders', 'Teddy', 'Tedrick',\n",
       "       'Terrance', 'Terrenth', 'Terry', 'Tess', 'Tessa', 'Theo',\n",
       "       'Theodore', 'Thor', 'Thumas', 'Tiger', 'Tilly', 'Timber', 'Timison',\n",
       "       'Timmy', 'Timofy', 'Tino', 'Titan', 'Tito', 'Tobi', 'Toby', 'Todo',\n",
       "       'Toffee', 'Tom', 'Tommy', 'Tonks', 'Torque', 'Tove', 'Travis',\n",
       "       'Traviss', 'Trevith', 'Trigger', 'Trip', 'Tripp', 'Trooper', 'Tuck',\n",
       "       'Tucker', 'Tuco', 'Tug', 'Tupawc', 'Tycho', 'Tyr', 'Tyrone',\n",
       "       'Tyrus', 'Ulysses', 'Venti', 'Vince', 'Vincent', 'Vinnie',\n",
       "       'Vinscent', 'Vixen', 'Wafer', 'Waffles', 'Walker', 'Wallace',\n",
       "       'Wally', 'Walter', 'Watson', 'Wesley', 'Wiggles', 'Willem',\n",
       "       'William', 'Willie', 'Willow', 'Willy', 'Wilson', 'Winifred',\n",
       "       'Winnie', 'Winston', 'Wishes', 'Wyatt', 'Yoda', 'Yogi', 'Yukon',\n",
       "       'Zara', 'Zeek', 'Zeke', 'Zeus', 'Ziva', 'Zoe', 'Zoey', 'Zooey',\n",
       "       'Zuzu', 'a', 'actually', 'all', 'an', 'by', 'getting', 'his',\n",
       "       'incredibly', 'infuriating', 'just', 'life', 'light', 'mad', 'my',\n",
       "       'not', 'officially', 'old', 'one', 'quite', 'space', 'such', 'the',\n",
       "       'this', 'unacceptable', 'very'], dtype=object)"
      ]
     },
     "execution_count": 100,
     "metadata": {},
     "output_type": "execute_result"
    }
   ],
   "source": [
    "# Bring out the unique names\n",
    "\n",
    "clean_tweet.name.sort_values().unique()"
   ]
  },
  {
   "cell_type": "code",
   "execution_count": 101,
   "metadata": {},
   "outputs": [],
   "source": [
    "# Import the numpy library\n",
    "import numpy as np\n",
    "\n",
    "#Use the replace() method to replace the dogs with unofficial names to no-name\n",
    "clean_tweet.name.replace(['such', 'an', 'the', 'just', 'by', 'a', 'mad', 'old', 'space', \n",
    "             'quite', 'actually', 'infuriating', 'all', 'officially', 'my', 'unacceptable', 'incredibly',\n",
    "              'not', '0', 'life', 'one', 'his', 'very','this','None'], 'no-name', inplace=True)"
   ]
  },
  {
   "cell_type": "code",
   "execution_count": 102,
   "metadata": {},
   "outputs": [
    {
     "data": {
      "text/plain": [
       "no-name     851\n",
       "Charlie      12\n",
       "Cooper       11\n",
       "Oliver       11\n",
       "Lucy         11\n",
       "Tucker       10\n",
       "Lola         10\n",
       "Penny        10\n",
       "Winston       9\n",
       "Bo            9\n",
       "Sadie         8\n",
       "Buddy         7\n",
       "Toby          7\n",
       "Bailey        7\n",
       "Daisy         7\n",
       "Koda          6\n",
       "Oscar         6\n",
       "Jack          6\n",
       "Milo          6\n",
       "Bella         6\n",
       "Dave          6\n",
       "Rusty         6\n",
       "Scout         6\n",
       "Stanley       6\n",
       "Jax           6\n",
       "Leo           6\n",
       "Oakley        5\n",
       "Bentley       5\n",
       "Alfie         5\n",
       "Finn          5\n",
       "           ... \n",
       "Brutus        1\n",
       "Sonny         1\n",
       "Liam          1\n",
       "Napolean      1\n",
       "Hermione      1\n",
       "Randall       1\n",
       "Gilbert       1\n",
       "Dante         1\n",
       "Tripp         1\n",
       "General       1\n",
       "Mac           1\n",
       "Georgie       1\n",
       "Willow        1\n",
       "Severus       1\n",
       "Travis        1\n",
       "Raphael       1\n",
       "Obi           1\n",
       "Steve         1\n",
       "Cannon        1\n",
       "Howie         1\n",
       "Ed            1\n",
       "Aubie         1\n",
       "Al            1\n",
       "Rufio         1\n",
       "Gustav        1\n",
       "Sephie        1\n",
       "Cilantro      1\n",
       "Harlso        1\n",
       "Chevy         1\n",
       "Huck          1\n",
       "Name: name, Length: 934, dtype: int64"
      ]
     },
     "execution_count": 102,
     "metadata": {},
     "output_type": "execute_result"
    }
   ],
   "source": [
    "clean_tweet.name.sort_values().value_counts()"
   ]
  },
  {
   "cell_type": "code",
   "execution_count": 103,
   "metadata": {},
   "outputs": [
    {
     "data": {
      "text/html": [
       "<div>\n",
       "<style scoped>\n",
       "    .dataframe tbody tr th:only-of-type {\n",
       "        vertical-align: middle;\n",
       "    }\n",
       "\n",
       "    .dataframe tbody tr th {\n",
       "        vertical-align: top;\n",
       "    }\n",
       "\n",
       "    .dataframe thead th {\n",
       "        text-align: right;\n",
       "    }\n",
       "</style>\n",
       "<table border=\"1\" class=\"dataframe\">\n",
       "  <thead>\n",
       "    <tr style=\"text-align: right;\">\n",
       "      <th></th>\n",
       "      <th>tweet_id</th>\n",
       "      <th>timestamp</th>\n",
       "      <th>text</th>\n",
       "      <th>expanded_urls</th>\n",
       "      <th>rating_numerator</th>\n",
       "      <th>rating_denominator</th>\n",
       "      <th>name</th>\n",
       "      <th>doggo</th>\n",
       "      <th>floofer</th>\n",
       "      <th>pupper</th>\n",
       "      <th>puppo</th>\n",
       "      <th>year</th>\n",
       "    </tr>\n",
       "  </thead>\n",
       "  <tbody>\n",
       "    <tr>\n",
       "      <th>0</th>\n",
       "      <td>892420643555336193</td>\n",
       "      <td>2017-08-01 16:23:56</td>\n",
       "      <td>This is Phineas. He's a mystical boy. Only eve...</td>\n",
       "      <td>https://twitter.com/dog_rates/status/892420643...</td>\n",
       "      <td>13</td>\n",
       "      <td>10</td>\n",
       "      <td>Phineas</td>\n",
       "      <td>None</td>\n",
       "      <td>None</td>\n",
       "      <td>None</td>\n",
       "      <td>None</td>\n",
       "      <td>2017</td>\n",
       "    </tr>\n",
       "    <tr>\n",
       "      <th>1</th>\n",
       "      <td>892177421306343426</td>\n",
       "      <td>2017-08-01 00:17:27</td>\n",
       "      <td>This is Tilly. She's just checking pup on you....</td>\n",
       "      <td>https://twitter.com/dog_rates/status/892177421...</td>\n",
       "      <td>13</td>\n",
       "      <td>10</td>\n",
       "      <td>Tilly</td>\n",
       "      <td>None</td>\n",
       "      <td>None</td>\n",
       "      <td>None</td>\n",
       "      <td>None</td>\n",
       "      <td>2017</td>\n",
       "    </tr>\n",
       "  </tbody>\n",
       "</table>\n",
       "</div>"
      ],
      "text/plain": [
       "             tweet_id           timestamp  \\\n",
       "0  892420643555336193 2017-08-01 16:23:56   \n",
       "1  892177421306343426 2017-08-01 00:17:27   \n",
       "\n",
       "                                                text  \\\n",
       "0  This is Phineas. He's a mystical boy. Only eve...   \n",
       "1  This is Tilly. She's just checking pup on you....   \n",
       "\n",
       "                                       expanded_urls  rating_numerator  \\\n",
       "0  https://twitter.com/dog_rates/status/892420643...                13   \n",
       "1  https://twitter.com/dog_rates/status/892177421...                13   \n",
       "\n",
       "   rating_denominator     name doggo floofer pupper puppo  year  \n",
       "0                  10  Phineas  None    None   None  None  2017  \n",
       "1                  10    Tilly  None    None   None  None  2017  "
      ]
     },
     "execution_count": 103,
     "metadata": {},
     "output_type": "execute_result"
    }
   ],
   "source": [
    "#Drop the 'None' rows\n",
    "\n",
    "clean_tweet.drop(clean_tweet.query('(name == \"None\")').index ,inplace=True)\n",
    "clean_tweet.head(2)"
   ]
  },
  {
   "cell_type": "code",
   "execution_count": 104,
   "metadata": {},
   "outputs": [
    {
     "name": "stdout",
     "output_type": "stream",
     "text": [
      "<class 'pandas.core.frame.DataFrame'>\n",
      "RangeIndex: 2327 entries, 0 to 2326\n",
      "Data columns (total 3 columns):\n",
      "tweet_id          2327 non-null int64\n",
      "favorite_count    2327 non-null int64\n",
      "retweet_count     2327 non-null int64\n",
      "dtypes: int64(3)\n",
      "memory usage: 54.6 KB\n"
     ]
    }
   ],
   "source": [
    "# Check informations of the columns to be merged\n",
    "\n",
    "clean_newapi.info()"
   ]
  },
  {
   "cell_type": "code",
   "execution_count": 105,
   "metadata": {},
   "outputs": [
    {
     "name": "stdout",
     "output_type": "stream",
     "text": [
      "<class 'pandas.core.frame.DataFrame'>\n",
      "Int64Index: 2356 entries, 0 to 2355\n",
      "Data columns (total 14 columns):\n",
      "tweet_id              2356 non-null int64\n",
      "timestamp             2356 non-null datetime64[ns]\n",
      "text                  2356 non-null object\n",
      "expanded_urls         2297 non-null object\n",
      "rating_numerator      2356 non-null int64\n",
      "rating_denominator    2356 non-null int64\n",
      "name                  2356 non-null object\n",
      "doggo                 2356 non-null object\n",
      "floofer               2356 non-null object\n",
      "pupper                2356 non-null object\n",
      "puppo                 2356 non-null object\n",
      "year                  2356 non-null int64\n",
      "favorite_count        2327 non-null float64\n",
      "retweet_count         2327 non-null float64\n",
      "dtypes: datetime64[ns](1), float64(2), int64(4), object(7)\n",
      "memory usage: 276.1+ KB\n"
     ]
    }
   ],
   "source": [
    "# Merge clean_tweet, and clean_newapi using 'tweet_id' they have in common\n",
    "\n",
    "combined = pd.merge(clean_tweet, clean_newapi, on = \"tweet_id\", how=\"left\")\n",
    "combined.info()"
   ]
  },
  {
   "cell_type": "code",
   "execution_count": 106,
   "metadata": {},
   "outputs": [
    {
     "data": {
      "text/plain": [
       "Index(['tweet_id', 'timestamp', 'text', 'expanded_urls', 'rating_numerator',\n",
       "       'rating_denominator', 'name', 'doggo', 'floofer', 'pupper', 'puppo',\n",
       "       'year', 'favorite_count', 'retweet_count', 'jpg_url', 'img_num', 'p1',\n",
       "       'p1_conf', 'p1_dog', 'p2', 'p2_conf', 'p2_dog', 'p3', 'p3_conf',\n",
       "       'p3_dog'],\n",
       "      dtype='object')"
      ]
     },
     "execution_count": 106,
     "metadata": {},
     "output_type": "execute_result"
    }
   ],
   "source": [
    "# Merge the combined and clean_image into a single data frame\n",
    "\n",
    "combined_archive = pd.merge(combined, clean_image, on='tweet_id', how ='inner')\n",
    "combined_archive.columns"
   ]
  },
  {
   "cell_type": "markdown",
   "metadata": {},
   "source": [
    "#### Test"
   ]
  },
  {
   "cell_type": "code",
   "execution_count": 107,
   "metadata": {},
   "outputs": [
    {
     "name": "stdout",
     "output_type": "stream",
     "text": [
      "<class 'pandas.core.frame.DataFrame'>\n",
      "Int64Index: 2009 entries, 0 to 2008\n",
      "Data columns (total 25 columns):\n",
      "tweet_id              2009 non-null int64\n",
      "timestamp             2009 non-null datetime64[ns]\n",
      "text                  2009 non-null object\n",
      "expanded_urls         2009 non-null object\n",
      "rating_numerator      2009 non-null int64\n",
      "rating_denominator    2009 non-null int64\n",
      "name                  2009 non-null object\n",
      "doggo                 2009 non-null object\n",
      "floofer               2009 non-null object\n",
      "pupper                2009 non-null object\n",
      "puppo                 2009 non-null object\n",
      "year                  2009 non-null int64\n",
      "favorite_count        1998 non-null float64\n",
      "retweet_count         1998 non-null float64\n",
      "jpg_url               2009 non-null object\n",
      "img_num               2009 non-null int64\n",
      "p1                    2009 non-null object\n",
      "p1_conf               2009 non-null float64\n",
      "p1_dog                2009 non-null bool\n",
      "p2                    2009 non-null object\n",
      "p2_conf               2009 non-null float64\n",
      "p2_dog                2009 non-null bool\n",
      "p3                    2009 non-null object\n",
      "p3_conf               2009 non-null float64\n",
      "p3_dog                2009 non-null bool\n",
      "dtypes: bool(3), datetime64[ns](1), float64(5), int64(5), object(11)\n",
      "memory usage: 366.9+ KB\n"
     ]
    }
   ],
   "source": [
    "combined_archive.info()"
   ]
  },
  {
   "cell_type": "code",
   "execution_count": 108,
   "metadata": {},
   "outputs": [
    {
     "data": {
      "text/plain": [
       "(2009, 25)"
      ]
     },
     "execution_count": 108,
     "metadata": {},
     "output_type": "execute_result"
    }
   ],
   "source": [
    "combined_archive.shape"
   ]
  },
  {
   "cell_type": "markdown",
   "metadata": {},
   "source": [
    "### Issue #2: Dog tests are spread in three columns."
   ]
  },
  {
   "cell_type": "markdown",
   "metadata": {},
   "source": [
    "#### Define: Melt the dog names in one single series; value_name='dogtypes'"
   ]
  },
  {
   "cell_type": "markdown",
   "metadata": {},
   "source": [
    "#### Code"
   ]
  },
  {
   "cell_type": "code",
   "execution_count": 109,
   "metadata": {},
   "outputs": [],
   "source": [
    "combined_archive = pd.melt(combined_archive, id_vars=['tweet_id','timestamp', 'text','expanded_urls',\n",
    "                                                      'rating_numerator','rating_denominator','name',\n",
    "                                                      'favorite_count', 'retweet_count', 'jpg_url',\n",
    "                                                      'img_num', 'p1','p1_conf','p1_dog', 'p2', 'p2_conf',\n",
    "                                                      'p2_dog', 'p3', 'p3_conf','p3_dog'], value_name='dogtypes')"
   ]
  },
  {
   "cell_type": "markdown",
   "metadata": {},
   "source": [
    "#### Test"
   ]
  },
  {
   "cell_type": "code",
   "execution_count": 110,
   "metadata": {},
   "outputs": [
    {
     "name": "stdout",
     "output_type": "stream",
     "text": [
      "<class 'pandas.core.frame.DataFrame'>\n",
      "RangeIndex: 10045 entries, 0 to 10044\n",
      "Data columns (total 22 columns):\n",
      "tweet_id              10045 non-null int64\n",
      "timestamp             10045 non-null datetime64[ns]\n",
      "text                  10045 non-null object\n",
      "expanded_urls         10045 non-null object\n",
      "rating_numerator      10045 non-null int64\n",
      "rating_denominator    10045 non-null int64\n",
      "name                  10045 non-null object\n",
      "favorite_count        9990 non-null float64\n",
      "retweet_count         9990 non-null float64\n",
      "jpg_url               10045 non-null object\n",
      "img_num               10045 non-null int64\n",
      "p1                    10045 non-null object\n",
      "p1_conf               10045 non-null float64\n",
      "p1_dog                10045 non-null bool\n",
      "p2                    10045 non-null object\n",
      "p2_conf               10045 non-null float64\n",
      "p2_dog                10045 non-null bool\n",
      "p3                    10045 non-null object\n",
      "p3_conf               10045 non-null float64\n",
      "p3_dog                10045 non-null bool\n",
      "variable              10045 non-null object\n",
      "dogtypes              10045 non-null object\n",
      "dtypes: bool(3), datetime64[ns](1), float64(5), int64(4), object(9)\n",
      "memory usage: 1.5+ MB\n"
     ]
    }
   ],
   "source": [
    "combined_archive.info()"
   ]
  },
  {
   "cell_type": "code",
   "execution_count": 111,
   "metadata": {},
   "outputs": [],
   "source": [
    "combined_archive =  combined_archive.drop_duplicates()"
   ]
  },
  {
   "cell_type": "code",
   "execution_count": 112,
   "metadata": {},
   "outputs": [],
   "source": [
    "# Drop name dog with no name\n",
    "\n",
    "combined_archive.drop(combined_archive.query('(name == \"no-name\")').index ,inplace=True)"
   ]
  },
  {
   "cell_type": "code",
   "execution_count": 113,
   "metadata": {},
   "outputs": [
    {
     "name": "stdout",
     "output_type": "stream",
     "text": [
      "<class 'pandas.core.frame.DataFrame'>\n",
      "Int64Index: 6765 entries, 0 to 10014\n",
      "Data columns (total 22 columns):\n",
      "tweet_id              6765 non-null int64\n",
      "timestamp             6765 non-null datetime64[ns]\n",
      "text                  6765 non-null object\n",
      "expanded_urls         6765 non-null object\n",
      "rating_numerator      6765 non-null int64\n",
      "rating_denominator    6765 non-null int64\n",
      "name                  6765 non-null object\n",
      "favorite_count        6730 non-null float64\n",
      "retweet_count         6730 non-null float64\n",
      "jpg_url               6765 non-null object\n",
      "img_num               6765 non-null int64\n",
      "p1                    6765 non-null object\n",
      "p1_conf               6765 non-null float64\n",
      "p1_dog                6765 non-null bool\n",
      "p2                    6765 non-null object\n",
      "p2_conf               6765 non-null float64\n",
      "p2_dog                6765 non-null bool\n",
      "p3                    6765 non-null object\n",
      "p3_conf               6765 non-null float64\n",
      "p3_dog                6765 non-null bool\n",
      "variable              6765 non-null object\n",
      "dogtypes              6765 non-null object\n",
      "dtypes: bool(3), datetime64[ns](1), float64(5), int64(4), object(9)\n",
      "memory usage: 1.1+ MB\n"
     ]
    }
   ],
   "source": [
    "# Check\n",
    "\n",
    "combined_archive.info()"
   ]
  },
  {
   "cell_type": "markdown",
   "metadata": {},
   "source": [
    "## Storing Data\n",
    "Save gathered, assessed, and cleaned master dataset to a CSV file named \"twitter_archive_master.csv\"."
   ]
  },
  {
   "cell_type": "code",
   "execution_count": 115,
   "metadata": {},
   "outputs": [],
   "source": [
    "combined_archive.to_csv('twitter_archive_master.csv')"
   ]
  },
  {
   "cell_type": "markdown",
   "metadata": {},
   "source": [
    "## Analyzing and Visualizing Data\n",
    "In this section, analyze and visualize your wrangled data. You must produce at least **three (3) insights and one (1) visualization.**"
   ]
  },
  {
   "cell_type": "code",
   "execution_count": null,
   "metadata": {},
   "outputs": [],
   "source": []
  },
  {
   "cell_type": "markdown",
   "metadata": {},
   "source": [
    "### Insights:\n",
    "1. DOG CATEGORIES WITH FAVOURITE COUNTS\n",
    "2. DOG WITH THE MOST POPULAR NAME\n",
    "3. TOP 20 DOG NAMES WITH RETWEETS RATE\n",
    "4. DOG BREED WITH HIGHEST MEAN RATE NUMERATOR, AND HIGHEST VALUE COUNTS\n"
   ]
  },
  {
   "cell_type": "markdown",
   "metadata": {},
   "source": [
    "### INSIGHT 1\n",
    "\n",
    "DOG CATEGORIES WITH FAVOURITE COUNTS"
   ]
  },
  {
   "cell_type": "code",
   "execution_count": 117,
   "metadata": {},
   "outputs": [
    {
     "data": {
      "text/plain": [
       "array(['None', 'doggo', 'floofer', 'pupper', 'puppo', 2017, 2016, 2015], dtype=object)"
      ]
     },
     "execution_count": 117,
     "metadata": {},
     "output_type": "execute_result"
    }
   ],
   "source": [
    " combined_archive.dogtypes.unique()"
   ]
  },
  {
   "cell_type": "code",
   "execution_count": 119,
   "metadata": {},
   "outputs": [],
   "source": [
    "# Drop duplicates with dogtypes \"None,2017,2016,2015\" \n",
    "\n",
    "combined_archive.drop(combined_archive.query('(dogtypes == \"None\")').index ,inplace=True)"
   ]
  },
  {
   "cell_type": "code",
   "execution_count": 125,
   "metadata": {},
   "outputs": [],
   "source": [
    "combined_archive.drop(combined_archive.query('(dogtypes == 2017)').index ,inplace=True)"
   ]
  },
  {
   "cell_type": "code",
   "execution_count": 127,
   "metadata": {},
   "outputs": [],
   "source": [
    "combined_archive.drop(combined_archive.query('(dogtypes == 2016)').index ,inplace=True)"
   ]
  },
  {
   "cell_type": "code",
   "execution_count": 128,
   "metadata": {},
   "outputs": [],
   "source": [
    "combined_archive.drop(combined_archive.query('(dogtypes == 2015)').index ,inplace=True)"
   ]
  },
  {
   "cell_type": "code",
   "execution_count": 129,
   "metadata": {},
   "outputs": [
    {
     "data": {
      "text/plain": [
       "array(['doggo', 'floofer', 'pupper', 'puppo'], dtype=object)"
      ]
     },
     "execution_count": 129,
     "metadata": {},
     "output_type": "execute_result"
    }
   ],
   "source": [
    " combined_archive.dogtypes.unique()"
   ]
  },
  {
   "cell_type": "code",
   "execution_count": 148,
   "metadata": {},
   "outputs": [
    {
     "name": "stdout",
     "output_type": "stream",
     "text": [
      "Requirement already satisfied: seaborn in /opt/conda/lib/python3.6/site-packages (0.8.1)\n",
      "Requirement already satisfied: numpy in /opt/conda/lib/python3.6/site-packages (from seaborn) (1.12.1)\n",
      "Requirement already satisfied: scipy in /opt/conda/lib/python3.6/site-packages (from seaborn) (1.2.1)\n",
      "Requirement already satisfied: matplotlib in /opt/conda/lib/python3.6/site-packages (from seaborn) (2.1.0)\n",
      "Requirement already satisfied: pandas in /opt/conda/lib/python3.6/site-packages (from seaborn) (0.23.3)\n",
      "Requirement already satisfied: six>=1.10 in /opt/conda/lib/python3.6/site-packages (from matplotlib->seaborn) (1.11.0)\n",
      "Requirement already satisfied: python-dateutil>=2.0 in /opt/conda/lib/python3.6/site-packages (from matplotlib->seaborn) (2.6.1)\n",
      "Requirement already satisfied: pytz in /opt/conda/lib/python3.6/site-packages (from matplotlib->seaborn) (2017.3)\n",
      "Requirement already satisfied: cycler>=0.10 in /opt/conda/lib/python3.6/site-packages/cycler-0.10.0-py3.6.egg (from matplotlib->seaborn) (0.10.0)\n",
      "Requirement already satisfied: pyparsing!=2.0.4,!=2.1.2,!=2.1.6,>=2.0.1 in /opt/conda/lib/python3.6/site-packages (from matplotlib->seaborn) (2.2.0)\n"
     ]
    }
   ],
   "source": [
    "!pip install seaborn"
   ]
  },
  {
   "cell_type": "code",
   "execution_count": 149,
   "metadata": {},
   "outputs": [],
   "source": [
    "# Import visual libraries\n",
    "\n",
    "import seaborn as sns\n",
    "sns.set()\n",
    "import matplotlib.pyplot as plt\n",
    "%matplotlib inline"
   ]
  },
  {
   "cell_type": "code",
   "execution_count": 150,
   "metadata": {},
   "outputs": [
    {
     "data": {
      "image/png": "[encoded data removed]",
      "text/plain": [
       "<matplotlib.figure.Figure at 0x7f73d8af7f98>"
      ]
     },
     "metadata": {
      "needs_background": "light"
     },
     "output_type": "display_data"
    }
   ],
   "source": [
    "# Plot Dogtypes with favourite count  hue=\"species\"\n",
    "\n",
    "sns.violinplot(data=combined_archive,x=\"dogtypes\", y=\"favorite_count\")\n",
    "plt.title('Dog categories with total of favorite Counts');"
   ]
  },
  {
   "cell_type": "code",
   "execution_count": 152,
   "metadata": {},
   "outputs": [
    {
     "data": {
      "text/plain": [
       "pupper     121\n",
       "doggo       40\n",
       "puppo       15\n",
       "floofer      5\n",
       "Name: dogtypes, dtype: int64"
      ]
     },
     "execution_count": 152,
     "metadata": {},
     "output_type": "execute_result"
    }
   ],
   "source": [
    "#Test\n",
    "\n",
    "combined_archive.dogtypes.value_counts()"
   ]
  },
  {
   "cell_type": "markdown",
   "metadata": {},
   "source": [
    "In the part above, i found out, the category which is recorded the highest rate of favourites, after removing None values, and visualizing the chart, the pupper dog (216 count points) recorded the highest rate, then doggo, floofer, and pupper."
   ]
  },
  {
   "cell_type": "markdown",
   "metadata": {},
   "source": [
    "### INSIGHT 2\n",
    "\n",
    "DOG WITH THE MOST POPULAR NAME"
   ]
  },
  {
   "cell_type": "code",
   "execution_count": 153,
   "metadata": {},
   "outputs": [
    {
     "data": {
      "text/plain": [
       "Cooper      3\n",
       "Pickles     2\n",
       "Sampson     2\n",
       "Pinot       2\n",
       "Milo        2\n",
       "Dido        2\n",
       "Maggie      2\n",
       "Chuckles    2\n",
       "Gus         2\n",
       "Bones       2\n",
       "Oliver      2\n",
       "Bo          2\n",
       "Loki        2\n",
       "Kawhi       1\n",
       "Smiley      1\n",
       "Doobert     1\n",
       "Winston     1\n",
       "Betty       1\n",
       "Gerbald     1\n",
       "Benji       1\n",
       "Moose       1\n",
       "Lily        1\n",
       "Deacon      1\n",
       "Ollie       1\n",
       "Sunny       1\n",
       "Mimosa      1\n",
       "Rooney      1\n",
       "Craig       1\n",
       "Lenox       1\n",
       "Doc         1\n",
       "           ..\n",
       "Pilot       1\n",
       "Raymond     1\n",
       "Bayley      1\n",
       "Jamesy      1\n",
       "Petrick     1\n",
       "Albert      1\n",
       "Meera       1\n",
       "Rhino       1\n",
       "Rover       1\n",
       "Scooter     1\n",
       "Blu         1\n",
       "Gidget      1\n",
       "Shikha      1\n",
       "Lorenzo     1\n",
       "Huck        1\n",
       "Scott       1\n",
       "Bella       1\n",
       "Chet        1\n",
       "Kellogg     1\n",
       "Miguel      1\n",
       "Astrid      1\n",
       "Napolean    1\n",
       "Jazz        1\n",
       "Kyle        1\n",
       "Divine      1\n",
       "Snoopy      1\n",
       "Kaiya       1\n",
       "Rocky       1\n",
       "Eve         1\n",
       "Stuart      1\n",
       "Name: name, Length: 167, dtype: int64"
      ]
     },
     "execution_count": 153,
     "metadata": {},
     "output_type": "execute_result"
    }
   ],
   "source": [
    "# Check value couunt\n",
    "\n",
    "combined_archive.name.value_counts()"
   ]
  },
  {
   "cell_type": "code",
   "execution_count": 154,
   "metadata": {},
   "outputs": [
    {
     "data": {
      "image/png": "[encoded data removed]",
      "text/plain": [
       "<matplotlib.figure.Figure at 0x7f73d8a187b8>"
      ]
     },
     "metadata": {
      "needs_background": "light"
     },
     "output_type": "display_data"
    }
   ],
   "source": [
    "# Plot the top 5 Dog names by frequency\n",
    "\n",
    "plt.figure(figsize=(10, 4))\n",
    "dogname = combined_archive.name.value_counts().nlargest(5).plot(kind = 'bar');\n",
    "dogname.set_title('Dog Name Frequency');\n",
    "dogname.set_xlabel('Frequency');\n",
    "dogname.set_ylabel('Dog Name');"
   ]
  },
  {
   "cell_type": "code",
   "execution_count": 155,
   "metadata": {},
   "outputs": [
    {
     "data": {
      "text/plain": [
       "Cooper      3\n",
       "Pickles     2\n",
       "Sampson     2\n",
       "Pinot       2\n",
       "Milo        2\n",
       "Dido        2\n",
       "Maggie      2\n",
       "Chuckles    2\n",
       "Gus         2\n",
       "Bones       2\n",
       "Oliver      2\n",
       "Bo          2\n",
       "Loki        2\n",
       "Kawhi       1\n",
       "Smiley      1\n",
       "Doobert     1\n",
       "Winston     1\n",
       "Betty       1\n",
       "Gerbald     1\n",
       "Benji       1\n",
       "Moose       1\n",
       "Lily        1\n",
       "Deacon      1\n",
       "Ollie       1\n",
       "Sunny       1\n",
       "Mimosa      1\n",
       "Rooney      1\n",
       "Craig       1\n",
       "Lenox       1\n",
       "Doc         1\n",
       "           ..\n",
       "Pilot       1\n",
       "Raymond     1\n",
       "Bayley      1\n",
       "Jamesy      1\n",
       "Petrick     1\n",
       "Albert      1\n",
       "Meera       1\n",
       "Rhino       1\n",
       "Rover       1\n",
       "Scooter     1\n",
       "Blu         1\n",
       "Gidget      1\n",
       "Shikha      1\n",
       "Lorenzo     1\n",
       "Huck        1\n",
       "Scott       1\n",
       "Bella       1\n",
       "Chet        1\n",
       "Kellogg     1\n",
       "Miguel      1\n",
       "Astrid      1\n",
       "Napolean    1\n",
       "Jazz        1\n",
       "Kyle        1\n",
       "Divine      1\n",
       "Snoopy      1\n",
       "Kaiya       1\n",
       "Rocky       1\n",
       "Eve         1\n",
       "Stuart      1\n",
       "Name: name, Length: 167, dtype: int64"
      ]
     },
     "execution_count": 155,
     "metadata": {},
     "output_type": "execute_result"
    }
   ],
   "source": [
    "#test\n",
    "\n",
    "combined_archive.name.value_counts()"
   ]
  },
  {
   "cell_type": "markdown",
   "metadata": {},
   "source": [
    "After dropping the 'no-name' rows from the name columns, The Cooper had the highest frequency with 3"
   ]
  },
  {
   "cell_type": "markdown",
   "metadata": {},
   "source": [
    "### INSIGHT 3\n",
    "\n",
    "TOP 20 DOG NAMES WITH RETWEETS RAT"
   ]
  },
  {
   "cell_type": "code",
   "execution_count": 156,
   "metadata": {},
   "outputs": [
    {
     "data": {
      "text/html": [
       "<div>\n",
       "<style scoped>\n",
       "    .dataframe tbody tr th:only-of-type {\n",
       "        vertical-align: middle;\n",
       "    }\n",
       "\n",
       "    .dataframe tbody tr th {\n",
       "        vertical-align: top;\n",
       "    }\n",
       "\n",
       "    .dataframe thead th {\n",
       "        text-align: right;\n",
       "    }\n",
       "</style>\n",
       "<table border=\"1\" class=\"dataframe\">\n",
       "  <thead>\n",
       "    <tr style=\"text-align: right;\">\n",
       "      <th></th>\n",
       "      <th>name</th>\n",
       "      <th>retweet_count</th>\n",
       "    </tr>\n",
       "  </thead>\n",
       "  <tbody>\n",
       "    <tr>\n",
       "      <th>9</th>\n",
       "      <td>Cassie</td>\n",
       "      <td>6101.0</td>\n",
       "    </tr>\n",
       "    <tr>\n",
       "      <th>37</th>\n",
       "      <td>Yogi</td>\n",
       "      <td>2506.0</td>\n",
       "    </tr>\n",
       "    <tr>\n",
       "      <th>90</th>\n",
       "      <td>Napolean</td>\n",
       "      <td>2941.0</td>\n",
       "    </tr>\n",
       "    <tr>\n",
       "      <th>99</th>\n",
       "      <td>Scout</td>\n",
       "      <td>2640.0</td>\n",
       "    </tr>\n",
       "    <tr>\n",
       "      <th>190</th>\n",
       "      <td>Barney</td>\n",
       "      <td>10406.0</td>\n",
       "    </tr>\n",
       "    <tr>\n",
       "      <th>195</th>\n",
       "      <td>Mimosa</td>\n",
       "      <td>1622.0</td>\n",
       "    </tr>\n",
       "    <tr>\n",
       "      <th>234</th>\n",
       "      <td>Meera</td>\n",
       "      <td>4271.0</td>\n",
       "    </tr>\n",
       "    <tr>\n",
       "      <th>256</th>\n",
       "      <td>Rhino</td>\n",
       "      <td>2026.0</td>\n",
       "    </tr>\n",
       "    <tr>\n",
       "      <th>262</th>\n",
       "      <td>Smiley</td>\n",
       "      <td>2149.0</td>\n",
       "    </tr>\n",
       "    <tr>\n",
       "      <th>263</th>\n",
       "      <td>Miguel</td>\n",
       "      <td>4308.0</td>\n",
       "    </tr>\n",
       "    <tr>\n",
       "      <th>264</th>\n",
       "      <td>Emanuel</td>\n",
       "      <td>5667.0</td>\n",
       "    </tr>\n",
       "    <tr>\n",
       "      <th>269</th>\n",
       "      <td>Pete</td>\n",
       "      <td>1447.0</td>\n",
       "    </tr>\n",
       "    <tr>\n",
       "      <th>279</th>\n",
       "      <td>Astrid</td>\n",
       "      <td>NaN</td>\n",
       "    </tr>\n",
       "    <tr>\n",
       "      <th>287</th>\n",
       "      <td>Doobert</td>\n",
       "      <td>2064.0</td>\n",
       "    </tr>\n",
       "    <tr>\n",
       "      <th>297</th>\n",
       "      <td>Loki</td>\n",
       "      <td>4616.0</td>\n",
       "    </tr>\n",
       "    <tr>\n",
       "      <th>298</th>\n",
       "      <td>Cupid</td>\n",
       "      <td>9354.0</td>\n",
       "    </tr>\n",
       "    <tr>\n",
       "      <th>300</th>\n",
       "      <td>Pilot</td>\n",
       "      <td>3895.0</td>\n",
       "    </tr>\n",
       "    <tr>\n",
       "      <th>325</th>\n",
       "      <td>Duchess</td>\n",
       "      <td>1557.0</td>\n",
       "    </tr>\n",
       "    <tr>\n",
       "      <th>327</th>\n",
       "      <td>Sundance</td>\n",
       "      <td>3997.0</td>\n",
       "    </tr>\n",
       "    <tr>\n",
       "      <th>341</th>\n",
       "      <td>Sunny</td>\n",
       "      <td>17804.0</td>\n",
       "    </tr>\n",
       "  </tbody>\n",
       "</table>\n",
       "</div>"
      ],
      "text/plain": [
       "         name  retweet_count\n",
       "9      Cassie         6101.0\n",
       "37       Yogi         2506.0\n",
       "90   Napolean         2941.0\n",
       "99      Scout         2640.0\n",
       "190    Barney        10406.0\n",
       "195    Mimosa         1622.0\n",
       "234     Meera         4271.0\n",
       "256     Rhino         2026.0\n",
       "262    Smiley         2149.0\n",
       "263    Miguel         4308.0\n",
       "264   Emanuel         5667.0\n",
       "269      Pete         1447.0\n",
       "279    Astrid            NaN\n",
       "287   Doobert         2064.0\n",
       "297      Loki         4616.0\n",
       "298     Cupid         9354.0\n",
       "300     Pilot         3895.0\n",
       "325   Duchess         1557.0\n",
       "327  Sundance         3997.0\n",
       "341     Sunny        17804.0"
      ]
     },
     "execution_count": 156,
     "metadata": {},
     "output_type": "execute_result"
    }
   ],
   "source": [
    "#Bring out the two columns needed\n",
    "\n",
    "combined_archive[[\"name\",\"retweet_count\"]].head(20)"
   ]
  },
  {
   "cell_type": "code",
   "execution_count": 157,
   "metadata": {},
   "outputs": [
    {
     "data": {
      "image/png": "[encoded data removed]",
      "text/plain": [
       "<matplotlib.figure.Figure at 0x7f73d8aba630>"
      ]
     },
     "metadata": {
      "needs_background": "light"
     },
     "output_type": "display_data"
    }
   ],
   "source": [
    "#Plot name to retweet count\n",
    "\n",
    "sns.barplot(y=\"name\", x=\"retweet_count\", data = combined_archive[:20]).set_title('top 20 dog names with highest retweets rate');"
   ]
  },
  {
   "cell_type": "markdown",
   "metadata": {},
   "source": [
    "After visuslizaion, the Sunny has the highest retweet count with value 21794.0, Barney took the second highest with value 13076.0 followed by the third runner up cupid with value 11878.0"
   ]
  },
  {
   "cell_type": "markdown",
   "metadata": {},
   "source": [
    "### INSIGHT 4\n",
    "\n",
    "DOG BREED WITH HIGHEST MEAN RATE NUMERATOR, AND HIGHEST VALUE COUNTS"
   ]
  },
  {
   "cell_type": "code",
   "execution_count": 158,
   "metadata": {},
   "outputs": [
    {
     "data": {
      "text/plain": [
       "p1\n",
       "clumber                   27.0\n",
       "bedlington_terrier        14.0\n",
       "irish_setter              14.0\n",
       "pedestal                  14.0\n",
       "prison                    14.0\n",
       "standard_poodle           14.0\n",
       "borzoi                    13.0\n",
       "curly-coated_retriever    13.0\n",
       "dandie_dinmont            13.0\n",
       "italian_greyhound         13.0\n",
       "Name: rating_numerator, dtype: float64"
      ]
     },
     "execution_count": 158,
     "metadata": {},
     "output_type": "execute_result"
    }
   ],
   "source": [
    "# Find the dog breed with the highest numerator\n",
    "\n",
    "combined_archive.groupby('p1')['rating_numerator'].mean().nlargest(10)"
   ]
  },
  {
   "cell_type": "code",
   "execution_count": 159,
   "metadata": {},
   "outputs": [
    {
     "data": {
      "text/plain": [
       "golden_retriever                  15\n",
       "pembroke                           6\n",
       "labrador_retriever                 6\n",
       "pomeranian                         6\n",
       "german_shepherd                    5\n",
       "porcupine                          5\n",
       "pug                                5\n",
       "eskimo_dog                         4\n",
       "border_collie                      4\n",
       "chihuahua                          4\n",
       "staffordshire_bullterrier          3\n",
       "toy_poodle                         3\n",
       "lakeland_terrier                   3\n",
       "siberian_husky                     3\n",
       "dalmatian                          3\n",
       "chow                               3\n",
       "french_bulldog                     3\n",
       "boxer                              3\n",
       "miniature_pinscher                 3\n",
       "cocker_spaniel                     3\n",
       "blenheim_spaniel                   2\n",
       "bernese_mountain_dog               2\n",
       "great_pyrenees                     2\n",
       "siamese_cat                        2\n",
       "whippet                            2\n",
       "american_staffordshire_terrier     2\n",
       "wombat                             2\n",
       "old_english_sheepdog               2\n",
       "bloodhound                         2\n",
       "curly-coated_retriever             2\n",
       "                                  ..\n",
       "irish_setter                       1\n",
       "mexican_hairless                   1\n",
       "walker_hound                       1\n",
       "dandie_dinmont                     1\n",
       "italian_greyhound                  1\n",
       "space_heater                       1\n",
       "dishwasher                         1\n",
       "clumber                            1\n",
       "carton                             1\n",
       "espresso                           1\n",
       "dining_table                       1\n",
       "german_short-haired_pointer        1\n",
       "wooden_spoon                       1\n",
       "long-horned_beetle                 1\n",
       "tennis_ball                        1\n",
       "mortarboard                        1\n",
       "greater_swiss_mountain_dog         1\n",
       "alp                                1\n",
       "shetland_sheepdog                  1\n",
       "bison                              1\n",
       "motor_scooter                      1\n",
       "mousetrap                          1\n",
       "hog                                1\n",
       "ice_lolly                          1\n",
       "american_black_bear                1\n",
       "great_dane                         1\n",
       "keeshond                           1\n",
       "kelpie                             1\n",
       "borzoi                             1\n",
       "leaf_beetle                        1\n",
       "Name: p1, Length: 100, dtype: int64"
      ]
     },
     "execution_count": 159,
     "metadata": {},
     "output_type": "execute_result"
    }
   ],
   "source": [
    "# Dog breed with highest value counts of p1\n",
    "\n",
    "combined_archive.p1.value_counts()"
   ]
  },
  {
   "cell_type": "markdown",
   "metadata": {},
   "source": [
    "The dog breeds are classified into P1,P2,P3 respectively and by so doing, i checked the dog with the highest 10 numerators using their mean count, The clumber of the P1 had a wide distance from the others with 27.0 mean rating numerator as well as the golden_retriever appeared more than the others with count 15"
   ]
  },
  {
   "cell_type": "code",
   "execution_count": 160,
   "metadata": {},
   "outputs": [
    {
     "data": {
      "text/plain": [
       "p2\n",
       "fountain                     14.000000\n",
       "ice_bear                     14.000000\n",
       "palace                       14.000000\n",
       "vizsla                       14.000000\n",
       "cocker_spaniel               13.428571\n",
       "maltese_dog                  13.000000\n",
       "staffordshire_bullterrier    13.000000\n",
       "whippet                      13.000000\n",
       "wire-haired_fox_terrier      13.000000\n",
       "malinois                     12.500000\n",
       "Name: rating_numerator, dtype: float64"
      ]
     },
     "execution_count": 160,
     "metadata": {},
     "output_type": "execute_result"
    }
   ],
   "source": [
    "# Find the dog breed with the highest numerator\n",
    "\n",
    "combined_archive.groupby('p2')['rating_numerator'].mean().nlargest(10)"
   ]
  },
  {
   "cell_type": "code",
   "execution_count": 161,
   "metadata": {},
   "outputs": [
    {
     "data": {
      "text/plain": [
       "labrador_retriever                11\n",
       "cocker_spaniel                     7\n",
       "french_bulldog                     6\n",
       "chesapeake_bay_retriever           5\n",
       "golden_retriever                   5\n",
       "shetland_sheepdog                  5\n",
       "boston_bull                        5\n",
       "chihuahua                          4\n",
       "siberian_husky                     4\n",
       "collie                             4\n",
       "kelpie                             3\n",
       "norwegian_elkhound                 3\n",
       "miniature_poodle                   3\n",
       "toy_poodle                         3\n",
       "leonberg                           3\n",
       "tibetan_mastiff                    3\n",
       "eskimo_dog                         3\n",
       "cardigan                           3\n",
       "flat-coated_retriever              3\n",
       "chow                               3\n",
       "doormat                            2\n",
       "shih-tzu                           2\n",
       "american_staffordshire_terrier     2\n",
       "redbone                            2\n",
       "samoyed                            2\n",
       "schipperke                         2\n",
       "english_setter                     2\n",
       "bull_mastiff                       2\n",
       "pembroke                           2\n",
       "soft-coated_wheaten_terrier        2\n",
       "                                  ..\n",
       "horse_cart                         1\n",
       "lakeland_terrier                   1\n",
       "quilt                              1\n",
       "hamster                            1\n",
       "bloodhound                         1\n",
       "academic_gown                      1\n",
       "feather_boa                        1\n",
       "vizsla                             1\n",
       "irish_setter                       1\n",
       "ox                                 1\n",
       "meerkat                            1\n",
       "bathtub                            1\n",
       "coffee_mug                         1\n",
       "mashed_potato                      1\n",
       "lesser_panda                       1\n",
       "papillon                           1\n",
       "maltese_dog                        1\n",
       "goldfish                           1\n",
       "palace                             1\n",
       "briard                             1\n",
       "window_shade                       1\n",
       "sliding_door                       1\n",
       "fur_coat                           1\n",
       "black_widow                        1\n",
       "marmot                             1\n",
       "bobsled                            1\n",
       "great_dane                         1\n",
       "whippet                            1\n",
       "gibbon                             1\n",
       "airedale                           1\n",
       "Name: p2, Length: 98, dtype: int64"
      ]
     },
     "execution_count": 161,
     "metadata": {},
     "output_type": "execute_result"
    }
   ],
   "source": [
    "# Dog breed with highest value counts of p2\n",
    "\n",
    "combined_archive.p2.value_counts()"
   ]
  },
  {
   "cell_type": "markdown",
   "metadata": {},
   "source": [
    "I checked the dog breed in p2 with the highest 10 numerators using their mean count, The fountain, ice_bear, palace and vizsla are of point 14.0 mean rating numerator as well as the labrador_retriever appeared more than the others with count 11"
   ]
  },
  {
   "cell_type": "code",
   "execution_count": 162,
   "metadata": {},
   "outputs": [
    {
     "data": {
      "text/plain": [
       "p3\n",
       "lhasa                  16.666667\n",
       "brass                  14.000000\n",
       "umbrella               14.000000\n",
       "english_setter         13.000000\n",
       "ibizan_hound           13.000000\n",
       "irish_water_spaniel    13.000000\n",
       "newfoundland           13.000000\n",
       "norfolk_terrier        13.000000\n",
       "redbone                13.000000\n",
       "saluki                 13.000000\n",
       "Name: rating_numerator, dtype: float64"
      ]
     },
     "execution_count": 162,
     "metadata": {},
     "output_type": "execute_result"
    }
   ],
   "source": [
    "# Find the dog breed with the highest numerator\n",
    "\n",
    "combined_archive.groupby('p3')['rating_numerator'].mean().nlargest(10)"
   ]
  },
  {
   "cell_type": "code",
   "execution_count": 163,
   "metadata": {},
   "outputs": [
    {
     "data": {
      "text/plain": [
       "malamute                          7\n",
       "kelpie                            6\n",
       "pug                               5\n",
       "labrador_retriever                5\n",
       "chesapeake_bay_retriever          4\n",
       "echidna                           4\n",
       "siamese_cat                       4\n",
       "kuvasz                            4\n",
       "chihuahua                         4\n",
       "pembroke                          4\n",
       "chow                              3\n",
       "maltese_dog                       3\n",
       "norwegian_elkhound                3\n",
       "pekinese                          3\n",
       "lhasa                             3\n",
       "french_bulldog                    3\n",
       "bull_mastiff                      3\n",
       "golden_retriever                  3\n",
       "tibetan_terrier                   3\n",
       "vizsla                            2\n",
       "toy_terrier                       2\n",
       "irish_water_spaniel               2\n",
       "saluki                            2\n",
       "collie                            2\n",
       "brittany_spaniel                  2\n",
       "beagle                            2\n",
       "german_shepherd                   2\n",
       "shetland_sheepdog                 2\n",
       "clumber                           2\n",
       "bluetick                          2\n",
       "                                 ..\n",
       "cardigan                          1\n",
       "pomeranian                        1\n",
       "eskimo_dog                        1\n",
       "miniature_schnauzer               1\n",
       "tibetan_mastiff                   1\n",
       "cheetah                           1\n",
       "keeshond                          1\n",
       "papillon                          1\n",
       "borzoi                            1\n",
       "redbone                           1\n",
       "grey_fox                          1\n",
       "english_foxhound                  1\n",
       "newfoundland                      1\n",
       "welsh_springer_spaniel            1\n",
       "shopping_cart                     1\n",
       "schipperke                        1\n",
       "hare                              1\n",
       "guinea_pig                        1\n",
       "west_highland_white_terrier       1\n",
       "umbrella                          1\n",
       "norwich_terrier                   1\n",
       "tennis_ball                       1\n",
       "brabancon_griffon                 1\n",
       "american_staffordshire_terrier    1\n",
       "norfolk_terrier                   1\n",
       "staffordshire_bullterrier         1\n",
       "paddlewheel                       1\n",
       "curly-coated_retriever            1\n",
       "ibizan_hound                      1\n",
       "toy_poodle                        1\n",
       "Name: p3, Length: 112, dtype: int64"
      ]
     },
     "execution_count": 163,
     "metadata": {},
     "output_type": "execute_result"
    }
   ],
   "source": [
    "# Dog breed with highest value counts of p3\n",
    "\n",
    "combined_archive.p3.value_counts()"
   ]
  },
  {
   "cell_type": "markdown",
   "metadata": {},
   "source": [
    "I also checked the dog breed in p3 with the highest 10 numerators using their mean count, The lhasa has 16.7 mean rating numerator as well as the malamute appeared more than the others with count 7"
   ]
  }
 ],
 "metadata": {
  "extensions": {
   "jupyter_dashboards": {
    "activeView": "report_default",
    "version": 1,
    "views": {
     "grid_default": {
      "cellMargin": 10,
      "defaultCellHeight": 20,
      "maxColumns": 12,
      "name": "grid",
      "type": "grid"
     },
     "report_default": {
      "name": "report",
      "type": "report"
     }
    }
   }
  },
  "kernelspec": {
   "display_name": "Python 3",
   "language": "python",
   "name": "python3"
  },
  "language_info": {
   "codemirror_mode": {
    "name": "ipython",
    "version": 3
   },
   "file_extension": ".py",
   "mimetype": "text/x-python",
   "name": "python",
   "nbconvert_exporter": "python",
   "pygments_lexer": "ipython3",
   "version": "3.6.3"
  }
 },
 "nbformat": 4,
 "nbformat_minor": 2
}
